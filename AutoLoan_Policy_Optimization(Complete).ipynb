{
  "metadata": {
    "kernelspec": {
      "language": "python",
      "display_name": "Python 3",
      "name": "python3"
    },
    "language_info": {
      "name": "python",
      "version": "3.11.13",
      "mimetype": "text/x-python",
      "codemirror_mode": {
        "name": "ipython",
        "version": 3
      },
      "pygments_lexer": "ipython3",
      "nbconvert_exporter": "python",
      "file_extension": ".py"
    },
    "kaggle": {
      "accelerator": "none",
      "dataSources": [
        {
          "sourceId": 370089,
          "sourceType": "datasetVersion",
          "datasetId": 902
        }
      ],
      "dockerImageVersionId": 31153,
      "isInternetEnabled": false,
      "language": "python",
      "sourceType": "notebook",
      "isGpuEnabled": false
    },
    "colab": {
      "provenance": []
    }
  },
  "nbformat_minor": 0,
  "nbformat": 4,
  "cells": [
    {
      "cell_type": "code",
      "source": [
        "import os\n",
        "!pip install -q kaggle\n",
        "\n",
        "if not os.path.exists(\"/root/.kaggle/kaggle.json\"):\n",
        "    from google.colab import files\n",
        "    print(\"Upload your kaggle.json file from your Kaggle account\")\n",
        "    files.upload()\n",
        "    !mkdir -p ~/.kaggle\n",
        "    !mv kaggle.json ~/.kaggle/\n",
        "    !chmod 600 ~/.kaggle/kaggle.json\n",
        "else:\n",
        "    print(\"kaggle.json already configured\")\n",
        "\n",
        "if not os.path.exists(\"accepted_2007_to_2018Q4.csv.gz\"):\n",
        "    print(\"Downloading Lending Club dataset...\")\n",
        "    !kaggle datasets download -d wordsforthewise/lending-club -q\n",
        "    !unzip -q lending-club.zip\n",
        "    print(\"Dataset downloaded & extracted\")\n",
        "else:\n",
        "    print(\"Dataset already available\")"
      ],
      "metadata": {
        "colab": {
          "base_uri": "https://localhost:8080/"
        },
        "id": "rUOvkw84xSvv",
        "outputId": "93ca944b-1940-48ff-c1b2-a1d93f051eab"
      },
      "execution_count": 83,
      "outputs": [
        {
          "output_type": "stream",
          "name": "stdout",
          "text": [
            "✅ kaggle.json already configured\n",
            "✅ Dataset already available\n"
          ]
        }
      ]
    },
    {
      "cell_type": "code",
      "source": [
        "# This Python 3 environment comes with many helpful analytics libraries installed\n",
        "# It is defined by the kaggle/python Docker image: https://github.com/kaggle/docker-python\n",
        "# For example, here's several helpful packages to load\n",
        "\n",
        "import numpy as np\n",
        "import pandas as pd\n",
        "import seaborn as sns\n",
        "import matplotlib.pyplot as plt\n",
        "\n",
        "import tensorflow as tf\n",
        "from tensorflow import keras\n",
        "from tensorflow.keras import layers\n",
        "from tensorflow.keras.callbacks import EarlyStopping\n",
        "from sklearn.model_selection import train_test_split\n",
        "from sklearn.preprocessing import StandardScaler, OneHotEncoder\n",
        "from sklearn.compose import ColumnTransformer\n",
        "from sklearn.pipeline import Pipeline\n",
        "from sklearn.metrics import (\n",
        "    roc_auc_score,\n",
        "    f1_score,\n",
        "    classification_report,\n",
        "    confusion_matrix\n",
        ")\n",
        "\n",
        "\n",
        "import warnings\n",
        "\n",
        "warnings.filterwarnings('ignore')\n",
        "\n",
        "# Input data files are available in the read-only \"../input/\" directory\n",
        "# For example, running this (by clicking run or pressing Shift+Enter) will list all files under the input directory\n",
        "\n",
        "import os\n",
        "for dirname, _, filenames in os.walk('/kaggle/input'):\n",
        "    for filename in filenames:\n",
        "        print(os.path.join(dirname, filename))\n",
        "\n",
        "# You can write up to 20GB to the current directory (/kaggle/working/) that gets preserved as output when you create a version using \"Save & Run All\"\n",
        "# You can also write temporary files to /kaggle/temp/, but they won't be saved outside of the current session"
      ],
      "metadata": {
        "_uuid": "8f2839f25d086af736a60e9eeb907d3b93b6e0e5",
        "_cell_guid": "b1076dfc-b9ad-4769-8c92-a6c4dae69d19",
        "trusted": true,
        "execution": {
          "iopub.status.busy": "2025-10-26T06:30:49.604705Z",
          "iopub.execute_input": "2025-10-26T06:30:49.604959Z",
          "iopub.status.idle": "2025-10-26T06:31:11.053667Z",
          "shell.execute_reply.started": "2025-10-26T06:30:49.604933Z",
          "shell.execute_reply": "2025-10-26T06:31:11.052611Z"
        },
        "id": "sfOhnPOIt-sP"
      },
      "outputs": [],
      "execution_count": 84
    },
    {
      "cell_type": "code",
      "source": [
        "df = pd.read_csv(\"accepted_2007_to_2018Q4.csv.gz\", low_memory=False, nrows=200000)"
      ],
      "metadata": {
        "trusted": true,
        "execution": {
          "iopub.status.busy": "2025-10-26T06:31:11.054549Z",
          "iopub.execute_input": "2025-10-26T06:31:11.055065Z",
          "iopub.status.idle": "2025-10-26T06:31:19.159802Z",
          "shell.execute_reply.started": "2025-10-26T06:31:11.055043Z",
          "shell.execute_reply": "2025-10-26T06:31:19.158781Z"
        },
        "id": "zfWAoFC-t-sQ"
      },
      "outputs": [],
      "execution_count": 85
    },
    {
      "cell_type": "code",
      "source": [
        "df.head()"
      ],
      "metadata": {
        "trusted": true,
        "execution": {
          "iopub.status.busy": "2025-10-26T06:31:19.16182Z",
          "iopub.execute_input": "2025-10-26T06:31:19.162093Z",
          "iopub.status.idle": "2025-10-26T06:31:19.20773Z",
          "shell.execute_reply.started": "2025-10-26T06:31:19.162072Z",
          "shell.execute_reply": "2025-10-26T06:31:19.206934Z"
        },
        "id": "ektuAogSt-sQ",
        "outputId": "015c4ed9-fa36-4923-91ca-04d80a514b6e",
        "colab": {
          "base_uri": "https://localhost:8080/",
          "height": 342
        }
      },
      "outputs": [
        {
          "output_type": "execute_result",
          "data": {
            "text/plain": [
              "         id  member_id  loan_amnt  funded_amnt  funded_amnt_inv        term  \\\n",
              "0  68407277        NaN     3600.0       3600.0           3600.0   36 months   \n",
              "1  68355089        NaN    24700.0      24700.0          24700.0   36 months   \n",
              "2  68341763        NaN    20000.0      20000.0          20000.0   60 months   \n",
              "3  66310712        NaN    35000.0      35000.0          35000.0   60 months   \n",
              "4  68476807        NaN    10400.0      10400.0          10400.0   60 months   \n",
              "\n",
              "   int_rate  installment grade sub_grade  ... hardship_payoff_balance_amount  \\\n",
              "0     13.99       123.03     C        C4  ...                            NaN   \n",
              "1     11.99       820.28     C        C1  ...                            NaN   \n",
              "2     10.78       432.66     B        B4  ...                            NaN   \n",
              "3     14.85       829.90     C        C5  ...                            NaN   \n",
              "4     22.45       289.91     F        F1  ...                            NaN   \n",
              "\n",
              "  hardship_last_payment_amount disbursement_method  debt_settlement_flag  \\\n",
              "0                          NaN                Cash                     N   \n",
              "1                          NaN                Cash                     N   \n",
              "2                          NaN                Cash                     N   \n",
              "3                          NaN                Cash                     N   \n",
              "4                          NaN                Cash                     N   \n",
              "\n",
              "  debt_settlement_flag_date settlement_status settlement_date  \\\n",
              "0                       NaN               NaN             NaN   \n",
              "1                       NaN               NaN             NaN   \n",
              "2                       NaN               NaN             NaN   \n",
              "3                       NaN               NaN             NaN   \n",
              "4                       NaN               NaN             NaN   \n",
              "\n",
              "  settlement_amount settlement_percentage settlement_term  \n",
              "0               NaN                   NaN             NaN  \n",
              "1               NaN                   NaN             NaN  \n",
              "2               NaN                   NaN             NaN  \n",
              "3               NaN                   NaN             NaN  \n",
              "4               NaN                   NaN             NaN  \n",
              "\n",
              "[5 rows x 151 columns]"
            ],
            "text/html": [
              "\n",
              "  <div id=\"df-dc5936b3-289a-45b8-bc92-5f493f6e88c7\" class=\"colab-df-container\">\n",
              "    <div>\n",
              "<style scoped>\n",
              "    .dataframe tbody tr th:only-of-type {\n",
              "        vertical-align: middle;\n",
              "    }\n",
              "\n",
              "    .dataframe tbody tr th {\n",
              "        vertical-align: top;\n",
              "    }\n",
              "\n",
              "    .dataframe thead th {\n",
              "        text-align: right;\n",
              "    }\n",
              "</style>\n",
              "<table border=\"1\" class=\"dataframe\">\n",
              "  <thead>\n",
              "    <tr style=\"text-align: right;\">\n",
              "      <th></th>\n",
              "      <th>id</th>\n",
              "      <th>member_id</th>\n",
              "      <th>loan_amnt</th>\n",
              "      <th>funded_amnt</th>\n",
              "      <th>funded_amnt_inv</th>\n",
              "      <th>term</th>\n",
              "      <th>int_rate</th>\n",
              "      <th>installment</th>\n",
              "      <th>grade</th>\n",
              "      <th>sub_grade</th>\n",
              "      <th>...</th>\n",
              "      <th>hardship_payoff_balance_amount</th>\n",
              "      <th>hardship_last_payment_amount</th>\n",
              "      <th>disbursement_method</th>\n",
              "      <th>debt_settlement_flag</th>\n",
              "      <th>debt_settlement_flag_date</th>\n",
              "      <th>settlement_status</th>\n",
              "      <th>settlement_date</th>\n",
              "      <th>settlement_amount</th>\n",
              "      <th>settlement_percentage</th>\n",
              "      <th>settlement_term</th>\n",
              "    </tr>\n",
              "  </thead>\n",
              "  <tbody>\n",
              "    <tr>\n",
              "      <th>0</th>\n",
              "      <td>68407277</td>\n",
              "      <td>NaN</td>\n",
              "      <td>3600.0</td>\n",
              "      <td>3600.0</td>\n",
              "      <td>3600.0</td>\n",
              "      <td>36 months</td>\n",
              "      <td>13.99</td>\n",
              "      <td>123.03</td>\n",
              "      <td>C</td>\n",
              "      <td>C4</td>\n",
              "      <td>...</td>\n",
              "      <td>NaN</td>\n",
              "      <td>NaN</td>\n",
              "      <td>Cash</td>\n",
              "      <td>N</td>\n",
              "      <td>NaN</td>\n",
              "      <td>NaN</td>\n",
              "      <td>NaN</td>\n",
              "      <td>NaN</td>\n",
              "      <td>NaN</td>\n",
              "      <td>NaN</td>\n",
              "    </tr>\n",
              "    <tr>\n",
              "      <th>1</th>\n",
              "      <td>68355089</td>\n",
              "      <td>NaN</td>\n",
              "      <td>24700.0</td>\n",
              "      <td>24700.0</td>\n",
              "      <td>24700.0</td>\n",
              "      <td>36 months</td>\n",
              "      <td>11.99</td>\n",
              "      <td>820.28</td>\n",
              "      <td>C</td>\n",
              "      <td>C1</td>\n",
              "      <td>...</td>\n",
              "      <td>NaN</td>\n",
              "      <td>NaN</td>\n",
              "      <td>Cash</td>\n",
              "      <td>N</td>\n",
              "      <td>NaN</td>\n",
              "      <td>NaN</td>\n",
              "      <td>NaN</td>\n",
              "      <td>NaN</td>\n",
              "      <td>NaN</td>\n",
              "      <td>NaN</td>\n",
              "    </tr>\n",
              "    <tr>\n",
              "      <th>2</th>\n",
              "      <td>68341763</td>\n",
              "      <td>NaN</td>\n",
              "      <td>20000.0</td>\n",
              "      <td>20000.0</td>\n",
              "      <td>20000.0</td>\n",
              "      <td>60 months</td>\n",
              "      <td>10.78</td>\n",
              "      <td>432.66</td>\n",
              "      <td>B</td>\n",
              "      <td>B4</td>\n",
              "      <td>...</td>\n",
              "      <td>NaN</td>\n",
              "      <td>NaN</td>\n",
              "      <td>Cash</td>\n",
              "      <td>N</td>\n",
              "      <td>NaN</td>\n",
              "      <td>NaN</td>\n",
              "      <td>NaN</td>\n",
              "      <td>NaN</td>\n",
              "      <td>NaN</td>\n",
              "      <td>NaN</td>\n",
              "    </tr>\n",
              "    <tr>\n",
              "      <th>3</th>\n",
              "      <td>66310712</td>\n",
              "      <td>NaN</td>\n",
              "      <td>35000.0</td>\n",
              "      <td>35000.0</td>\n",
              "      <td>35000.0</td>\n",
              "      <td>60 months</td>\n",
              "      <td>14.85</td>\n",
              "      <td>829.90</td>\n",
              "      <td>C</td>\n",
              "      <td>C5</td>\n",
              "      <td>...</td>\n",
              "      <td>NaN</td>\n",
              "      <td>NaN</td>\n",
              "      <td>Cash</td>\n",
              "      <td>N</td>\n",
              "      <td>NaN</td>\n",
              "      <td>NaN</td>\n",
              "      <td>NaN</td>\n",
              "      <td>NaN</td>\n",
              "      <td>NaN</td>\n",
              "      <td>NaN</td>\n",
              "    </tr>\n",
              "    <tr>\n",
              "      <th>4</th>\n",
              "      <td>68476807</td>\n",
              "      <td>NaN</td>\n",
              "      <td>10400.0</td>\n",
              "      <td>10400.0</td>\n",
              "      <td>10400.0</td>\n",
              "      <td>60 months</td>\n",
              "      <td>22.45</td>\n",
              "      <td>289.91</td>\n",
              "      <td>F</td>\n",
              "      <td>F1</td>\n",
              "      <td>...</td>\n",
              "      <td>NaN</td>\n",
              "      <td>NaN</td>\n",
              "      <td>Cash</td>\n",
              "      <td>N</td>\n",
              "      <td>NaN</td>\n",
              "      <td>NaN</td>\n",
              "      <td>NaN</td>\n",
              "      <td>NaN</td>\n",
              "      <td>NaN</td>\n",
              "      <td>NaN</td>\n",
              "    </tr>\n",
              "  </tbody>\n",
              "</table>\n",
              "<p>5 rows × 151 columns</p>\n",
              "</div>\n",
              "    <div class=\"colab-df-buttons\">\n",
              "\n",
              "  <div class=\"colab-df-container\">\n",
              "    <button class=\"colab-df-convert\" onclick=\"convertToInteractive('df-dc5936b3-289a-45b8-bc92-5f493f6e88c7')\"\n",
              "            title=\"Convert this dataframe to an interactive table.\"\n",
              "            style=\"display:none;\">\n",
              "\n",
              "  <svg xmlns=\"http://www.w3.org/2000/svg\" height=\"24px\" viewBox=\"0 -960 960 960\">\n",
              "    <path d=\"M120-120v-720h720v720H120Zm60-500h600v-160H180v160Zm220 220h160v-160H400v160Zm0 220h160v-160H400v160ZM180-400h160v-160H180v160Zm440 0h160v-160H620v160ZM180-180h160v-160H180v160Zm440 0h160v-160H620v160Z\"/>\n",
              "  </svg>\n",
              "    </button>\n",
              "\n",
              "  <style>\n",
              "    .colab-df-container {\n",
              "      display:flex;\n",
              "      gap: 12px;\n",
              "    }\n",
              "\n",
              "    .colab-df-convert {\n",
              "      background-color: #E8F0FE;\n",
              "      border: none;\n",
              "      border-radius: 50%;\n",
              "      cursor: pointer;\n",
              "      display: none;\n",
              "      fill: #1967D2;\n",
              "      height: 32px;\n",
              "      padding: 0 0 0 0;\n",
              "      width: 32px;\n",
              "    }\n",
              "\n",
              "    .colab-df-convert:hover {\n",
              "      background-color: #E2EBFA;\n",
              "      box-shadow: 0px 1px 2px rgba(60, 64, 67, 0.3), 0px 1px 3px 1px rgba(60, 64, 67, 0.15);\n",
              "      fill: #174EA6;\n",
              "    }\n",
              "\n",
              "    .colab-df-buttons div {\n",
              "      margin-bottom: 4px;\n",
              "    }\n",
              "\n",
              "    [theme=dark] .colab-df-convert {\n",
              "      background-color: #3B4455;\n",
              "      fill: #D2E3FC;\n",
              "    }\n",
              "\n",
              "    [theme=dark] .colab-df-convert:hover {\n",
              "      background-color: #434B5C;\n",
              "      box-shadow: 0px 1px 3px 1px rgba(0, 0, 0, 0.15);\n",
              "      filter: drop-shadow(0px 1px 2px rgba(0, 0, 0, 0.3));\n",
              "      fill: #FFFFFF;\n",
              "    }\n",
              "  </style>\n",
              "\n",
              "    <script>\n",
              "      const buttonEl =\n",
              "        document.querySelector('#df-dc5936b3-289a-45b8-bc92-5f493f6e88c7 button.colab-df-convert');\n",
              "      buttonEl.style.display =\n",
              "        google.colab.kernel.accessAllowed ? 'block' : 'none';\n",
              "\n",
              "      async function convertToInteractive(key) {\n",
              "        const element = document.querySelector('#df-dc5936b3-289a-45b8-bc92-5f493f6e88c7');\n",
              "        const dataTable =\n",
              "          await google.colab.kernel.invokeFunction('convertToInteractive',\n",
              "                                                    [key], {});\n",
              "        if (!dataTable) return;\n",
              "\n",
              "        const docLinkHtml = 'Like what you see? Visit the ' +\n",
              "          '<a target=\"_blank\" href=https://colab.research.google.com/notebooks/data_table.ipynb>data table notebook</a>'\n",
              "          + ' to learn more about interactive tables.';\n",
              "        element.innerHTML = '';\n",
              "        dataTable['output_type'] = 'display_data';\n",
              "        await google.colab.output.renderOutput(dataTable, element);\n",
              "        const docLink = document.createElement('div');\n",
              "        docLink.innerHTML = docLinkHtml;\n",
              "        element.appendChild(docLink);\n",
              "      }\n",
              "    </script>\n",
              "  </div>\n",
              "\n",
              "\n",
              "    <div id=\"df-60cd9649-e2a4-4eb8-9df2-0f3c2e13c625\">\n",
              "      <button class=\"colab-df-quickchart\" onclick=\"quickchart('df-60cd9649-e2a4-4eb8-9df2-0f3c2e13c625')\"\n",
              "                title=\"Suggest charts\"\n",
              "                style=\"display:none;\">\n",
              "\n",
              "<svg xmlns=\"http://www.w3.org/2000/svg\" height=\"24px\"viewBox=\"0 0 24 24\"\n",
              "     width=\"24px\">\n",
              "    <g>\n",
              "        <path d=\"M19 3H5c-1.1 0-2 .9-2 2v14c0 1.1.9 2 2 2h14c1.1 0 2-.9 2-2V5c0-1.1-.9-2-2-2zM9 17H7v-7h2v7zm4 0h-2V7h2v10zm4 0h-2v-4h2v4z\"/>\n",
              "    </g>\n",
              "</svg>\n",
              "      </button>\n",
              "\n",
              "<style>\n",
              "  .colab-df-quickchart {\n",
              "      --bg-color: #E8F0FE;\n",
              "      --fill-color: #1967D2;\n",
              "      --hover-bg-color: #E2EBFA;\n",
              "      --hover-fill-color: #174EA6;\n",
              "      --disabled-fill-color: #AAA;\n",
              "      --disabled-bg-color: #DDD;\n",
              "  }\n",
              "\n",
              "  [theme=dark] .colab-df-quickchart {\n",
              "      --bg-color: #3B4455;\n",
              "      --fill-color: #D2E3FC;\n",
              "      --hover-bg-color: #434B5C;\n",
              "      --hover-fill-color: #FFFFFF;\n",
              "      --disabled-bg-color: #3B4455;\n",
              "      --disabled-fill-color: #666;\n",
              "  }\n",
              "\n",
              "  .colab-df-quickchart {\n",
              "    background-color: var(--bg-color);\n",
              "    border: none;\n",
              "    border-radius: 50%;\n",
              "    cursor: pointer;\n",
              "    display: none;\n",
              "    fill: var(--fill-color);\n",
              "    height: 32px;\n",
              "    padding: 0;\n",
              "    width: 32px;\n",
              "  }\n",
              "\n",
              "  .colab-df-quickchart:hover {\n",
              "    background-color: var(--hover-bg-color);\n",
              "    box-shadow: 0 1px 2px rgba(60, 64, 67, 0.3), 0 1px 3px 1px rgba(60, 64, 67, 0.15);\n",
              "    fill: var(--button-hover-fill-color);\n",
              "  }\n",
              "\n",
              "  .colab-df-quickchart-complete:disabled,\n",
              "  .colab-df-quickchart-complete:disabled:hover {\n",
              "    background-color: var(--disabled-bg-color);\n",
              "    fill: var(--disabled-fill-color);\n",
              "    box-shadow: none;\n",
              "  }\n",
              "\n",
              "  .colab-df-spinner {\n",
              "    border: 2px solid var(--fill-color);\n",
              "    border-color: transparent;\n",
              "    border-bottom-color: var(--fill-color);\n",
              "    animation:\n",
              "      spin 1s steps(1) infinite;\n",
              "  }\n",
              "\n",
              "  @keyframes spin {\n",
              "    0% {\n",
              "      border-color: transparent;\n",
              "      border-bottom-color: var(--fill-color);\n",
              "      border-left-color: var(--fill-color);\n",
              "    }\n",
              "    20% {\n",
              "      border-color: transparent;\n",
              "      border-left-color: var(--fill-color);\n",
              "      border-top-color: var(--fill-color);\n",
              "    }\n",
              "    30% {\n",
              "      border-color: transparent;\n",
              "      border-left-color: var(--fill-color);\n",
              "      border-top-color: var(--fill-color);\n",
              "      border-right-color: var(--fill-color);\n",
              "    }\n",
              "    40% {\n",
              "      border-color: transparent;\n",
              "      border-right-color: var(--fill-color);\n",
              "      border-top-color: var(--fill-color);\n",
              "    }\n",
              "    60% {\n",
              "      border-color: transparent;\n",
              "      border-right-color: var(--fill-color);\n",
              "    }\n",
              "    80% {\n",
              "      border-color: transparent;\n",
              "      border-right-color: var(--fill-color);\n",
              "      border-bottom-color: var(--fill-color);\n",
              "    }\n",
              "    90% {\n",
              "      border-color: transparent;\n",
              "      border-bottom-color: var(--fill-color);\n",
              "    }\n",
              "  }\n",
              "</style>\n",
              "\n",
              "      <script>\n",
              "        async function quickchart(key) {\n",
              "          const quickchartButtonEl =\n",
              "            document.querySelector('#' + key + ' button');\n",
              "          quickchartButtonEl.disabled = true;  // To prevent multiple clicks.\n",
              "          quickchartButtonEl.classList.add('colab-df-spinner');\n",
              "          try {\n",
              "            const charts = await google.colab.kernel.invokeFunction(\n",
              "                'suggestCharts', [key], {});\n",
              "          } catch (error) {\n",
              "            console.error('Error during call to suggestCharts:', error);\n",
              "          }\n",
              "          quickchartButtonEl.classList.remove('colab-df-spinner');\n",
              "          quickchartButtonEl.classList.add('colab-df-quickchart-complete');\n",
              "        }\n",
              "        (() => {\n",
              "          let quickchartButtonEl =\n",
              "            document.querySelector('#df-60cd9649-e2a4-4eb8-9df2-0f3c2e13c625 button');\n",
              "          quickchartButtonEl.style.display =\n",
              "            google.colab.kernel.accessAllowed ? 'block' : 'none';\n",
              "        })();\n",
              "      </script>\n",
              "    </div>\n",
              "\n",
              "    </div>\n",
              "  </div>\n"
            ],
            "application/vnd.google.colaboratory.intrinsic+json": {
              "type": "dataframe",
              "variable_name": "df"
            }
          },
          "metadata": {},
          "execution_count": 86
        }
      ],
      "execution_count": 86
    },
    {
      "cell_type": "code",
      "source": [
        "df.shape"
      ],
      "metadata": {
        "trusted": true,
        "execution": {
          "iopub.status.busy": "2025-10-26T06:31:19.208533Z",
          "iopub.execute_input": "2025-10-26T06:31:19.208912Z",
          "iopub.status.idle": "2025-10-26T06:31:19.215306Z",
          "shell.execute_reply.started": "2025-10-26T06:31:19.208889Z",
          "shell.execute_reply": "2025-10-26T06:31:19.214335Z"
        },
        "id": "2At0xeLyt-sQ",
        "outputId": "3484a051-e599-44ef-fd77-19ff322588f6",
        "colab": {
          "base_uri": "https://localhost:8080/"
        }
      },
      "outputs": [
        {
          "output_type": "execute_result",
          "data": {
            "text/plain": [
              "(200000, 151)"
            ]
          },
          "metadata": {},
          "execution_count": 87
        }
      ],
      "execution_count": 87
    },
    {
      "cell_type": "code",
      "source": [
        "df.info"
      ],
      "metadata": {
        "trusted": true,
        "execution": {
          "iopub.status.busy": "2025-10-26T06:31:19.216126Z",
          "iopub.execute_input": "2025-10-26T06:31:19.216412Z",
          "iopub.status.idle": "2025-10-26T06:31:19.305186Z",
          "shell.execute_reply.started": "2025-10-26T06:31:19.216391Z",
          "shell.execute_reply": "2025-10-26T06:31:19.304325Z"
        },
        "id": "QUvGrRcnt-sR",
        "outputId": "66554443-83d3-432b-e9c4-9af6f67de515",
        "colab": {
          "base_uri": "https://localhost:8080/",
          "height": 203
        }
      },
      "outputs": [
        {
          "output_type": "execute_result",
          "data": {
            "text/plain": [
              "<bound method DataFrame.info of               id  member_id  loan_amnt  funded_amnt  funded_amnt_inv  \\\n",
              "0       68407277        NaN     3600.0       3600.0           3600.0   \n",
              "1       68355089        NaN    24700.0      24700.0          24700.0   \n",
              "2       68341763        NaN    20000.0      20000.0          20000.0   \n",
              "3       66310712        NaN    35000.0      35000.0          35000.0   \n",
              "4       68476807        NaN    10400.0      10400.0          10400.0   \n",
              "...          ...        ...        ...          ...              ...   \n",
              "199995  56080425        NaN    12000.0      12000.0          12000.0   \n",
              "199996  55909672        NaN    21000.0      21000.0          21000.0   \n",
              "199997  54414556        NaN    27500.0      27500.0          27500.0   \n",
              "199998  56109383        NaN     7000.0       7000.0           7000.0   \n",
              "199999  56129522        NaN    23000.0      23000.0          23000.0   \n",
              "\n",
              "              term  int_rate  installment grade sub_grade  ...  \\\n",
              "0        36 months     13.99       123.03     C        C4  ...   \n",
              "1        36 months     11.99       820.28     C        C1  ...   \n",
              "2        60 months     10.78       432.66     B        B4  ...   \n",
              "3        60 months     14.85       829.90     C        C5  ...   \n",
              "4        60 months     22.45       289.91     F        F1  ...   \n",
              "...            ...       ...          ...   ...       ...  ...   \n",
              "199995   36 months     12.69       402.54     C        C2  ...   \n",
              "199996   36 months     12.29       700.42     C        C1  ...   \n",
              "199997   60 months     14.65       649.19     C        C5  ...   \n",
              "199998   36 months     10.99       229.14     B        B4  ...   \n",
              "199999   60 months     13.99       535.06     C        C4  ...   \n",
              "\n",
              "       hardship_payoff_balance_amount hardship_last_payment_amount  \\\n",
              "0                                 NaN                          NaN   \n",
              "1                                 NaN                          NaN   \n",
              "2                                 NaN                          NaN   \n",
              "3                                 NaN                          NaN   \n",
              "4                                 NaN                          NaN   \n",
              "...                               ...                          ...   \n",
              "199995                            NaN                          NaN   \n",
              "199996                            NaN                          NaN   \n",
              "199997                            NaN                          NaN   \n",
              "199998                            NaN                          NaN   \n",
              "199999                            NaN                          NaN   \n",
              "\n",
              "       disbursement_method  debt_settlement_flag debt_settlement_flag_date  \\\n",
              "0                     Cash                     N                       NaN   \n",
              "1                     Cash                     N                       NaN   \n",
              "2                     Cash                     N                       NaN   \n",
              "3                     Cash                     N                       NaN   \n",
              "4                     Cash                     N                       NaN   \n",
              "...                    ...                   ...                       ...   \n",
              "199995                Cash                     N                       NaN   \n",
              "199996                Cash                     N                       NaN   \n",
              "199997                Cash                     N                       NaN   \n",
              "199998                Cash                     N                       NaN   \n",
              "199999                Cash                     N                       NaN   \n",
              "\n",
              "       settlement_status settlement_date settlement_amount  \\\n",
              "0                    NaN             NaN               NaN   \n",
              "1                    NaN             NaN               NaN   \n",
              "2                    NaN             NaN               NaN   \n",
              "3                    NaN             NaN               NaN   \n",
              "4                    NaN             NaN               NaN   \n",
              "...                  ...             ...               ...   \n",
              "199995               NaN             NaN               NaN   \n",
              "199996               NaN             NaN               NaN   \n",
              "199997               NaN             NaN               NaN   \n",
              "199998               NaN             NaN               NaN   \n",
              "199999               NaN             NaN               NaN   \n",
              "\n",
              "       settlement_percentage settlement_term  \n",
              "0                        NaN             NaN  \n",
              "1                        NaN             NaN  \n",
              "2                        NaN             NaN  \n",
              "3                        NaN             NaN  \n",
              "4                        NaN             NaN  \n",
              "...                      ...             ...  \n",
              "199995                   NaN             NaN  \n",
              "199996                   NaN             NaN  \n",
              "199997                   NaN             NaN  \n",
              "199998                   NaN             NaN  \n",
              "199999                   NaN             NaN  \n",
              "\n",
              "[200000 rows x 151 columns]>"
            ],
            "text/html": [
              "<div style=\"max-width:800px; border: 1px solid var(--colab-border-color);\"><style>\n",
              "      pre.function-repr-contents {\n",
              "        overflow-x: auto;\n",
              "        padding: 8px 12px;\n",
              "        max-height: 500px;\n",
              "      }\n",
              "\n",
              "      pre.function-repr-contents.function-repr-contents-collapsed {\n",
              "        cursor: pointer;\n",
              "        max-height: 100px;\n",
              "      }\n",
              "    </style>\n",
              "    <pre style=\"white-space: initial; background:\n",
              "         var(--colab-secondary-surface-color); padding: 8px 12px;\n",
              "         border-bottom: 1px solid var(--colab-border-color);\"><b>pandas.core.frame.DataFrame.info</b><br/>def info(verbose: bool | None=None, buf: WriteBuffer[str] | None=None, max_cols: int | None=None, memory_usage: bool | str | None=None, show_counts: bool | None=None) -&gt; None</pre><pre class=\"function-repr-contents function-repr-contents-collapsed\" style=\"\"><a class=\"filepath\" style=\"display:none\" href=\"#\">/usr/local/lib/python3.12/dist-packages/pandas/core/frame.py</a>Print a concise summary of a DataFrame.\n",
              "\n",
              "This method prints information about a DataFrame including\n",
              "the index dtype and columns, non-null values and memory usage.\n",
              "\n",
              "Parameters\n",
              "----------\n",
              "verbose : bool, optional\n",
              "    Whether to print the full summary. By default, the setting in\n",
              "    ``pandas.options.display.max_info_columns`` is followed.\n",
              "buf : writable buffer, defaults to sys.stdout\n",
              "    Where to send the output. By default, the output is printed to\n",
              "    sys.stdout. Pass a writable buffer if you need to further process\n",
              "    the output.\n",
              "max_cols : int, optional\n",
              "    When to switch from the verbose to the truncated output. If the\n",
              "    DataFrame has more than `max_cols` columns, the truncated output\n",
              "    is used. By default, the setting in\n",
              "    ``pandas.options.display.max_info_columns`` is used.\n",
              "memory_usage : bool, str, optional\n",
              "    Specifies whether total memory usage of the DataFrame\n",
              "    elements (including the index) should be displayed. By default,\n",
              "    this follows the ``pandas.options.display.memory_usage`` setting.\n",
              "\n",
              "    True always show memory usage. False never shows memory usage.\n",
              "    A value of &#x27;deep&#x27; is equivalent to &quot;True with deep introspection&quot;.\n",
              "    Memory usage is shown in human-readable units (base-2\n",
              "    representation). Without deep introspection a memory estimation is\n",
              "    made based in column dtype and number of rows assuming values\n",
              "    consume the same memory amount for corresponding dtypes. With deep\n",
              "    memory introspection, a real memory usage calculation is performed\n",
              "    at the cost of computational resources. See the\n",
              "    :ref:`Frequently Asked Questions &lt;df-memory-usage&gt;` for more\n",
              "    details.\n",
              "show_counts : bool, optional\n",
              "    Whether to show the non-null counts. By default, this is shown\n",
              "    only if the DataFrame is smaller than\n",
              "    ``pandas.options.display.max_info_rows`` and\n",
              "    ``pandas.options.display.max_info_columns``. A value of True always\n",
              "    shows the counts, and False never shows the counts.\n",
              "\n",
              "Returns\n",
              "-------\n",
              "None\n",
              "    This method prints a summary of a DataFrame and returns None.\n",
              "\n",
              "See Also\n",
              "--------\n",
              "DataFrame.describe: Generate descriptive statistics of DataFrame\n",
              "    columns.\n",
              "DataFrame.memory_usage: Memory usage of DataFrame columns.\n",
              "\n",
              "Examples\n",
              "--------\n",
              "&gt;&gt;&gt; int_values = [1, 2, 3, 4, 5]\n",
              "&gt;&gt;&gt; text_values = [&#x27;alpha&#x27;, &#x27;beta&#x27;, &#x27;gamma&#x27;, &#x27;delta&#x27;, &#x27;epsilon&#x27;]\n",
              "&gt;&gt;&gt; float_values = [0.0, 0.25, 0.5, 0.75, 1.0]\n",
              "&gt;&gt;&gt; df = pd.DataFrame({&quot;int_col&quot;: int_values, &quot;text_col&quot;: text_values,\n",
              "...                   &quot;float_col&quot;: float_values})\n",
              "&gt;&gt;&gt; df\n",
              "    int_col text_col  float_col\n",
              "0        1    alpha       0.00\n",
              "1        2     beta       0.25\n",
              "2        3    gamma       0.50\n",
              "3        4    delta       0.75\n",
              "4        5  epsilon       1.00\n",
              "\n",
              "Prints information of all columns:\n",
              "\n",
              "&gt;&gt;&gt; df.info(verbose=True)\n",
              "&lt;class &#x27;pandas.core.frame.DataFrame&#x27;&gt;\n",
              "RangeIndex: 5 entries, 0 to 4\n",
              "Data columns (total 3 columns):\n",
              " #   Column     Non-Null Count  Dtype\n",
              "---  ------     --------------  -----\n",
              " 0   int_col    5 non-null      int64\n",
              " 1   text_col   5 non-null      object\n",
              " 2   float_col  5 non-null      float64\n",
              "dtypes: float64(1), int64(1), object(1)\n",
              "memory usage: 248.0+ bytes\n",
              "\n",
              "Prints a summary of columns count and its dtypes but not per column\n",
              "information:\n",
              "\n",
              "&gt;&gt;&gt; df.info(verbose=False)\n",
              "&lt;class &#x27;pandas.core.frame.DataFrame&#x27;&gt;\n",
              "RangeIndex: 5 entries, 0 to 4\n",
              "Columns: 3 entries, int_col to float_col\n",
              "dtypes: float64(1), int64(1), object(1)\n",
              "memory usage: 248.0+ bytes\n",
              "\n",
              "Pipe output of DataFrame.info to buffer instead of sys.stdout, get\n",
              "buffer content and writes to a text file:\n",
              "\n",
              "&gt;&gt;&gt; import io\n",
              "&gt;&gt;&gt; buffer = io.StringIO()\n",
              "&gt;&gt;&gt; df.info(buf=buffer)\n",
              "&gt;&gt;&gt; s = buffer.getvalue()\n",
              "&gt;&gt;&gt; with open(&quot;df_info.txt&quot;, &quot;w&quot;,\n",
              "...           encoding=&quot;utf-8&quot;) as f:  # doctest: +SKIP\n",
              "...     f.write(s)\n",
              "260\n",
              "\n",
              "The `memory_usage` parameter allows deep introspection mode, specially\n",
              "useful for big DataFrames and fine-tune memory optimization:\n",
              "\n",
              "&gt;&gt;&gt; random_strings_array = np.random.choice([&#x27;a&#x27;, &#x27;b&#x27;, &#x27;c&#x27;], 10 ** 6)\n",
              "&gt;&gt;&gt; df = pd.DataFrame({\n",
              "...     &#x27;column_1&#x27;: np.random.choice([&#x27;a&#x27;, &#x27;b&#x27;, &#x27;c&#x27;], 10 ** 6),\n",
              "...     &#x27;column_2&#x27;: np.random.choice([&#x27;a&#x27;, &#x27;b&#x27;, &#x27;c&#x27;], 10 ** 6),\n",
              "...     &#x27;column_3&#x27;: np.random.choice([&#x27;a&#x27;, &#x27;b&#x27;, &#x27;c&#x27;], 10 ** 6)\n",
              "... })\n",
              "&gt;&gt;&gt; df.info()\n",
              "&lt;class &#x27;pandas.core.frame.DataFrame&#x27;&gt;\n",
              "RangeIndex: 1000000 entries, 0 to 999999\n",
              "Data columns (total 3 columns):\n",
              " #   Column    Non-Null Count    Dtype\n",
              "---  ------    --------------    -----\n",
              " 0   column_1  1000000 non-null  object\n",
              " 1   column_2  1000000 non-null  object\n",
              " 2   column_3  1000000 non-null  object\n",
              "dtypes: object(3)\n",
              "memory usage: 22.9+ MB\n",
              "\n",
              "&gt;&gt;&gt; df.info(memory_usage=&#x27;deep&#x27;)\n",
              "&lt;class &#x27;pandas.core.frame.DataFrame&#x27;&gt;\n",
              "RangeIndex: 1000000 entries, 0 to 999999\n",
              "Data columns (total 3 columns):\n",
              " #   Column    Non-Null Count    Dtype\n",
              "---  ------    --------------    -----\n",
              " 0   column_1  1000000 non-null  object\n",
              " 1   column_2  1000000 non-null  object\n",
              " 2   column_3  1000000 non-null  object\n",
              "dtypes: object(3)\n",
              "memory usage: 165.9 MB</pre>\n",
              "      <script>\n",
              "      if (google.colab.kernel.accessAllowed && google.colab.files && google.colab.files.view) {\n",
              "        for (const element of document.querySelectorAll('.filepath')) {\n",
              "          element.style.display = 'block'\n",
              "          element.onclick = (event) => {\n",
              "            event.preventDefault();\n",
              "            event.stopPropagation();\n",
              "            google.colab.files.view(element.textContent, 3646);\n",
              "          };\n",
              "        }\n",
              "      }\n",
              "      for (const element of document.querySelectorAll('.function-repr-contents')) {\n",
              "        element.onclick = (event) => {\n",
              "          event.preventDefault();\n",
              "          event.stopPropagation();\n",
              "          element.classList.toggle('function-repr-contents-collapsed');\n",
              "        };\n",
              "      }\n",
              "      </script>\n",
              "      </div>"
            ]
          },
          "metadata": {},
          "execution_count": 88
        }
      ],
      "execution_count": 88
    },
    {
      "cell_type": "markdown",
      "source": [
        "> **TASK 1**"
      ],
      "metadata": {
        "id": "TnREEiq6t-sR"
      }
    },
    {
      "cell_type": "code",
      "source": [
        "(df.isnull().sum() / len(df) * 100).sort_values(ascending=False).head(15)"
      ],
      "metadata": {
        "trusted": true,
        "execution": {
          "iopub.status.busy": "2025-10-26T06:31:19.306255Z",
          "iopub.execute_input": "2025-10-26T06:31:19.3066Z",
          "iopub.status.idle": "2025-10-26T06:31:19.711669Z",
          "shell.execute_reply.started": "2025-10-26T06:31:19.306569Z",
          "shell.execute_reply": "2025-10-26T06:31:19.710739Z"
        },
        "id": "x8186Bqat-sS",
        "outputId": "35d04b93-af4f-4351-ca74-1f816f71494a",
        "colab": {
          "base_uri": "https://localhost:8080/",
          "height": 554
        }
      },
      "outputs": [
        {
          "output_type": "execute_result",
          "data": {
            "text/plain": [
              "member_id                              100.0000\n",
              "sec_app_num_rev_accts                  100.0000\n",
              "sec_app_open_act_il                    100.0000\n",
              "sec_app_inq_last_6mths                 100.0000\n",
              "sec_app_open_acc                       100.0000\n",
              "sec_app_mort_acc                       100.0000\n",
              "sec_app_mths_since_last_major_derog    100.0000\n",
              "sec_app_collections_12_mths_ex_med     100.0000\n",
              "sec_app_chargeoff_within_12_mths       100.0000\n",
              "sec_app_fico_range_low                 100.0000\n",
              "sec_app_earliest_cr_line               100.0000\n",
              "sec_app_revol_util                     100.0000\n",
              "sec_app_fico_range_high                100.0000\n",
              "revol_bal_joint                        100.0000\n",
              "desc                                    99.9945\n",
              "dtype: float64"
            ],
            "text/html": [
              "<div>\n",
              "<style scoped>\n",
              "    .dataframe tbody tr th:only-of-type {\n",
              "        vertical-align: middle;\n",
              "    }\n",
              "\n",
              "    .dataframe tbody tr th {\n",
              "        vertical-align: top;\n",
              "    }\n",
              "\n",
              "    .dataframe thead th {\n",
              "        text-align: right;\n",
              "    }\n",
              "</style>\n",
              "<table border=\"1\" class=\"dataframe\">\n",
              "  <thead>\n",
              "    <tr style=\"text-align: right;\">\n",
              "      <th></th>\n",
              "      <th>0</th>\n",
              "    </tr>\n",
              "  </thead>\n",
              "  <tbody>\n",
              "    <tr>\n",
              "      <th>member_id</th>\n",
              "      <td>100.0000</td>\n",
              "    </tr>\n",
              "    <tr>\n",
              "      <th>sec_app_num_rev_accts</th>\n",
              "      <td>100.0000</td>\n",
              "    </tr>\n",
              "    <tr>\n",
              "      <th>sec_app_open_act_il</th>\n",
              "      <td>100.0000</td>\n",
              "    </tr>\n",
              "    <tr>\n",
              "      <th>sec_app_inq_last_6mths</th>\n",
              "      <td>100.0000</td>\n",
              "    </tr>\n",
              "    <tr>\n",
              "      <th>sec_app_open_acc</th>\n",
              "      <td>100.0000</td>\n",
              "    </tr>\n",
              "    <tr>\n",
              "      <th>sec_app_mort_acc</th>\n",
              "      <td>100.0000</td>\n",
              "    </tr>\n",
              "    <tr>\n",
              "      <th>sec_app_mths_since_last_major_derog</th>\n",
              "      <td>100.0000</td>\n",
              "    </tr>\n",
              "    <tr>\n",
              "      <th>sec_app_collections_12_mths_ex_med</th>\n",
              "      <td>100.0000</td>\n",
              "    </tr>\n",
              "    <tr>\n",
              "      <th>sec_app_chargeoff_within_12_mths</th>\n",
              "      <td>100.0000</td>\n",
              "    </tr>\n",
              "    <tr>\n",
              "      <th>sec_app_fico_range_low</th>\n",
              "      <td>100.0000</td>\n",
              "    </tr>\n",
              "    <tr>\n",
              "      <th>sec_app_earliest_cr_line</th>\n",
              "      <td>100.0000</td>\n",
              "    </tr>\n",
              "    <tr>\n",
              "      <th>sec_app_revol_util</th>\n",
              "      <td>100.0000</td>\n",
              "    </tr>\n",
              "    <tr>\n",
              "      <th>sec_app_fico_range_high</th>\n",
              "      <td>100.0000</td>\n",
              "    </tr>\n",
              "    <tr>\n",
              "      <th>revol_bal_joint</th>\n",
              "      <td>100.0000</td>\n",
              "    </tr>\n",
              "    <tr>\n",
              "      <th>desc</th>\n",
              "      <td>99.9945</td>\n",
              "    </tr>\n",
              "  </tbody>\n",
              "</table>\n",
              "</div><br><label><b>dtype:</b> float64</label>"
            ]
          },
          "metadata": {},
          "execution_count": 89
        }
      ],
      "execution_count": 89
    },
    {
      "cell_type": "code",
      "source": [
        "df['loan_status'].value_counts()"
      ],
      "metadata": {
        "trusted": true,
        "execution": {
          "iopub.status.busy": "2025-10-26T06:31:19.712529Z",
          "iopub.execute_input": "2025-10-26T06:31:19.712789Z",
          "iopub.status.idle": "2025-10-26T06:31:19.734861Z",
          "shell.execute_reply.started": "2025-10-26T06:31:19.712769Z",
          "shell.execute_reply": "2025-10-26T06:31:19.733906Z"
        },
        "id": "jN-E8S43t-sS",
        "outputId": "bec5f6dc-701c-4875-e706-13004d443477",
        "colab": {
          "base_uri": "https://localhost:8080/",
          "height": 335
        }
      },
      "outputs": [
        {
          "output_type": "execute_result",
          "data": {
            "text/plain": [
              "loan_status\n",
              "Fully Paid            140992\n",
              "Charged Off            35090\n",
              "Current                22637\n",
              "Late (31-120 days)       785\n",
              "In Grace Period          347\n",
              "Late (16-30 days)        148\n",
              "Default                    1\n",
              "Name: count, dtype: int64"
            ],
            "text/html": [
              "<div>\n",
              "<style scoped>\n",
              "    .dataframe tbody tr th:only-of-type {\n",
              "        vertical-align: middle;\n",
              "    }\n",
              "\n",
              "    .dataframe tbody tr th {\n",
              "        vertical-align: top;\n",
              "    }\n",
              "\n",
              "    .dataframe thead th {\n",
              "        text-align: right;\n",
              "    }\n",
              "</style>\n",
              "<table border=\"1\" class=\"dataframe\">\n",
              "  <thead>\n",
              "    <tr style=\"text-align: right;\">\n",
              "      <th></th>\n",
              "      <th>count</th>\n",
              "    </tr>\n",
              "    <tr>\n",
              "      <th>loan_status</th>\n",
              "      <th></th>\n",
              "    </tr>\n",
              "  </thead>\n",
              "  <tbody>\n",
              "    <tr>\n",
              "      <th>Fully Paid</th>\n",
              "      <td>140992</td>\n",
              "    </tr>\n",
              "    <tr>\n",
              "      <th>Charged Off</th>\n",
              "      <td>35090</td>\n",
              "    </tr>\n",
              "    <tr>\n",
              "      <th>Current</th>\n",
              "      <td>22637</td>\n",
              "    </tr>\n",
              "    <tr>\n",
              "      <th>Late (31-120 days)</th>\n",
              "      <td>785</td>\n",
              "    </tr>\n",
              "    <tr>\n",
              "      <th>In Grace Period</th>\n",
              "      <td>347</td>\n",
              "    </tr>\n",
              "    <tr>\n",
              "      <th>Late (16-30 days)</th>\n",
              "      <td>148</td>\n",
              "    </tr>\n",
              "    <tr>\n",
              "      <th>Default</th>\n",
              "      <td>1</td>\n",
              "    </tr>\n",
              "  </tbody>\n",
              "</table>\n",
              "</div><br><label><b>dtype:</b> int64</label>"
            ]
          },
          "metadata": {},
          "execution_count": 90
        }
      ],
      "execution_count": 90
    },
    {
      "cell_type": "code",
      "source": [
        "df['income_to_loan_ratio'] = df['annual_inc'] / (df['loan_amnt'] + 1)\n",
        "df['installment_to_income_ratio'] = df['installment'] / (df['annual_inc'] + 1)\n",
        "df['log_annual_inc'] = np.log1p(df['annual_inc'])"
      ],
      "metadata": {
        "trusted": true,
        "execution": {
          "iopub.status.busy": "2025-10-26T06:31:19.735879Z",
          "iopub.execute_input": "2025-10-26T06:31:19.736551Z",
          "iopub.status.idle": "2025-10-26T06:31:19.776511Z",
          "shell.execute_reply.started": "2025-10-26T06:31:19.736525Z",
          "shell.execute_reply": "2025-10-26T06:31:19.775683Z"
        },
        "id": "7fQVxdUut-sT"
      },
      "outputs": [],
      "execution_count": 91
    },
    {
      "cell_type": "code",
      "source": [
        "valid_statuses = ['Fully Paid', 'Charged Off', 'Default']\n",
        "df = df[df['loan_status'].isin(valid_statuses)].copy()"
      ],
      "metadata": {
        "trusted": true,
        "execution": {
          "iopub.status.busy": "2025-10-26T06:31:19.77978Z",
          "iopub.execute_input": "2025-10-26T06:31:19.780057Z",
          "iopub.status.idle": "2025-10-26T06:31:20.20864Z",
          "shell.execute_reply.started": "2025-10-26T06:31:19.780038Z",
          "shell.execute_reply": "2025-10-26T06:31:20.207477Z"
        },
        "id": "Kivvc78vt-sT"
      },
      "outputs": [],
      "execution_count": 92
    },
    {
      "cell_type": "code",
      "source": [
        "df['loan_default'] = df['loan_status'].apply(\n",
        "    lambda x: 1 if x in ['Charged Off', 'Default'] else 0\n",
        ")\n",
        "df['loan_default'].value_counts(normalize=True)"
      ],
      "metadata": {
        "trusted": true,
        "execution": {
          "iopub.status.busy": "2025-10-26T06:31:20.209602Z",
          "iopub.execute_input": "2025-10-26T06:31:20.209919Z",
          "iopub.status.idle": "2025-10-26T06:31:20.288458Z",
          "shell.execute_reply.started": "2025-10-26T06:31:20.209892Z",
          "shell.execute_reply": "2025-10-26T06:31:20.28761Z"
        },
        "id": "k5EXH2NIt-sT",
        "outputId": "955dff2b-37ad-44e0-922d-711899d1e0c3",
        "colab": {
          "base_uri": "https://localhost:8080/",
          "height": 178
        }
      },
      "outputs": [
        {
          "output_type": "execute_result",
          "data": {
            "text/plain": [
              "loan_default\n",
              "0    0.800713\n",
              "1    0.199287\n",
              "Name: proportion, dtype: float64"
            ],
            "text/html": [
              "<div>\n",
              "<style scoped>\n",
              "    .dataframe tbody tr th:only-of-type {\n",
              "        vertical-align: middle;\n",
              "    }\n",
              "\n",
              "    .dataframe tbody tr th {\n",
              "        vertical-align: top;\n",
              "    }\n",
              "\n",
              "    .dataframe thead th {\n",
              "        text-align: right;\n",
              "    }\n",
              "</style>\n",
              "<table border=\"1\" class=\"dataframe\">\n",
              "  <thead>\n",
              "    <tr style=\"text-align: right;\">\n",
              "      <th></th>\n",
              "      <th>proportion</th>\n",
              "    </tr>\n",
              "    <tr>\n",
              "      <th>loan_default</th>\n",
              "      <th></th>\n",
              "    </tr>\n",
              "  </thead>\n",
              "  <tbody>\n",
              "    <tr>\n",
              "      <th>0</th>\n",
              "      <td>0.800713</td>\n",
              "    </tr>\n",
              "    <tr>\n",
              "      <th>1</th>\n",
              "      <td>0.199287</td>\n",
              "    </tr>\n",
              "  </tbody>\n",
              "</table>\n",
              "</div><br><label><b>dtype:</b> float64</label>"
            ]
          },
          "metadata": {},
          "execution_count": 93
        }
      ],
      "execution_count": 93
    },
    {
      "cell_type": "code",
      "source": [
        "# Check class balance\n",
        "sns.countplot(x='loan_default', data=df)\n",
        "plt.title(\"Loan Default Distribution (0 = Fully Paid, 1 = Default)\")\n",
        "plt.show()\n",
        "\n",
        "df['loan_default'].value_counts(normalize=True)"
      ],
      "metadata": {
        "trusted": true,
        "execution": {
          "iopub.status.busy": "2025-10-26T06:31:20.28941Z",
          "iopub.execute_input": "2025-10-26T06:31:20.289711Z",
          "iopub.status.idle": "2025-10-26T06:31:20.548506Z",
          "shell.execute_reply.started": "2025-10-26T06:31:20.289691Z",
          "shell.execute_reply": "2025-10-26T06:31:20.547292Z"
        },
        "id": "G4zw-75Mt-sU",
        "outputId": "54e0e01a-bf22-4b12-c3c0-d96a1a18e717",
        "colab": {
          "base_uri": "https://localhost:8080/",
          "height": 633
        }
      },
      "outputs": [
        {
          "output_type": "display_data",
          "data": {
            "text/plain": [
              "<Figure size 640x480 with 1 Axes>"
            ],
            "image/png": "[encoded data removed]"
          },
          "metadata": {}
        },
        {
          "output_type": "execute_result",
          "data": {
            "text/plain": [
              "loan_default\n",
              "0    0.800713\n",
              "1    0.199287\n",
              "Name: proportion, dtype: float64"
            ],
            "text/html": [
              "<div>\n",
              "<style scoped>\n",
              "    .dataframe tbody tr th:only-of-type {\n",
              "        vertical-align: middle;\n",
              "    }\n",
              "\n",
              "    .dataframe tbody tr th {\n",
              "        vertical-align: top;\n",
              "    }\n",
              "\n",
              "    .dataframe thead th {\n",
              "        text-align: right;\n",
              "    }\n",
              "</style>\n",
              "<table border=\"1\" class=\"dataframe\">\n",
              "  <thead>\n",
              "    <tr style=\"text-align: right;\">\n",
              "      <th></th>\n",
              "      <th>proportion</th>\n",
              "    </tr>\n",
              "    <tr>\n",
              "      <th>loan_default</th>\n",
              "      <th></th>\n",
              "    </tr>\n",
              "  </thead>\n",
              "  <tbody>\n",
              "    <tr>\n",
              "      <th>0</th>\n",
              "      <td>0.800713</td>\n",
              "    </tr>\n",
              "    <tr>\n",
              "      <th>1</th>\n",
              "      <td>0.199287</td>\n",
              "    </tr>\n",
              "  </tbody>\n",
              "</table>\n",
              "</div><br><label><b>dtype:</b> float64</label>"
            ]
          },
          "metadata": {},
          "execution_count": 94
        }
      ],
      "execution_count": 94
    },
    {
      "cell_type": "code",
      "source": [
        "selected_features = [\n",
        "    'loan_amnt', 'term', 'int_rate', 'installment',\n",
        "    'grade', 'sub_grade', 'emp_length', 'home_ownership',\n",
        "    'annual_inc', 'purpose', 'dti', 'loan_default'\n",
        "]\n",
        "\n",
        "df = df[selected_features]"
      ],
      "metadata": {
        "trusted": true,
        "execution": {
          "iopub.status.busy": "2025-10-26T06:31:20.549468Z",
          "iopub.execute_input": "2025-10-26T06:31:20.549751Z",
          "iopub.status.idle": "2025-10-26T06:31:20.586733Z",
          "shell.execute_reply.started": "2025-10-26T06:31:20.549732Z",
          "shell.execute_reply": "2025-10-26T06:31:20.585742Z"
        },
        "id": "0yW3ROnnt-sU"
      },
      "outputs": [],
      "execution_count": 95
    },
    {
      "cell_type": "code",
      "source": [
        "missing = df.isnull().mean().sort_values(ascending=False)\n",
        "print(missing[missing > 0])"
      ],
      "metadata": {
        "trusted": true,
        "execution": {
          "iopub.status.busy": "2025-10-26T06:31:20.587672Z",
          "iopub.execute_input": "2025-10-26T06:31:20.587963Z",
          "iopub.status.idle": "2025-10-26T06:31:20.661318Z",
          "shell.execute_reply.started": "2025-10-26T06:31:20.587938Z",
          "shell.execute_reply": "2025-10-26T06:31:20.66033Z"
        },
        "id": "SaZRFRRvt-sU",
        "outputId": "dfdf6021-a8ed-4395-830b-454e3efed2a4",
        "colab": {
          "base_uri": "https://localhost:8080/"
        }
      },
      "outputs": [
        {
          "output_type": "stream",
          "name": "stdout",
          "text": [
            "emp_length    0.063232\n",
            "dti           0.000011\n",
            "dtype: float64\n"
          ]
        }
      ],
      "execution_count": 96
    },
    {
      "cell_type": "code",
      "source": [
        "# Fill numeric columns with median\n",
        "num_cols = ['loan_amnt', 'int_rate', 'installment', 'annual_inc', 'dti']\n",
        "df[num_cols] = df[num_cols].fillna(df[num_cols].median())\n",
        "\n",
        "# Fill categorical columns with mode\n",
        "cat_cols = ['term', 'grade', 'sub_grade', 'emp_length', 'home_ownership', 'purpose']\n",
        "for c in cat_cols:\n",
        "    df[c] = df[c].fillna(df[c].mode()[0])"
      ],
      "metadata": {
        "trusted": true,
        "execution": {
          "iopub.status.busy": "2025-10-26T06:31:20.662267Z",
          "iopub.execute_input": "2025-10-26T06:31:20.662591Z",
          "iopub.status.idle": "2025-10-26T06:31:20.831097Z",
          "shell.execute_reply.started": "2025-10-26T06:31:20.662562Z",
          "shell.execute_reply": "2025-10-26T06:31:20.83001Z"
        },
        "id": "lvXczmpMt-sU"
      },
      "outputs": [],
      "execution_count": 97
    },
    {
      "cell_type": "code",
      "source": [
        "plt.figure(figsize=(7,5))\n",
        "sns.boxplot(x='loan_default', y='loan_amnt', data=df)\n",
        "plt.title('Loan Amount vs Default Rate')\n",
        "plt.show()"
      ],
      "metadata": {
        "trusted": true,
        "execution": {
          "iopub.status.busy": "2025-10-26T06:31:20.832038Z",
          "iopub.execute_input": "2025-10-26T06:31:20.832295Z",
          "iopub.status.idle": "2025-10-26T06:31:21.009194Z",
          "shell.execute_reply.started": "2025-10-26T06:31:20.832274Z",
          "shell.execute_reply": "2025-10-26T06:31:21.008335Z"
        },
        "id": "HqTKNY10t-sU",
        "outputId": "0f101570-ce7c-4b98-c62f-aca2a03f9503",
        "colab": {
          "base_uri": "https://localhost:8080/",
          "height": 487
        }
      },
      "outputs": [
        {
          "output_type": "display_data",
          "data": {
            "text/plain": [
              "<Figure size 700x500 with 1 Axes>"
            ],
            "image/png": "[encoded data removed]"
          },
          "metadata": {}
        }
      ],
      "execution_count": 98
    },
    {
      "cell_type": "markdown",
      "source": [
        "Observation: Higher loan amounts often → higher default probability."
      ],
      "metadata": {
        "id": "039SyXvBt-sU"
      }
    },
    {
      "cell_type": "code",
      "source": [
        "plt.figure(figsize=(7,5))\n",
        "sns.histplot(data=df, x='int_rate', hue='loan_default', bins=30, kde=True)\n",
        "plt.title('Interest Rate Distribution by Default Status')\n",
        "plt.show()"
      ],
      "metadata": {
        "trusted": true,
        "execution": {
          "iopub.status.busy": "2025-10-26T06:31:21.010063Z",
          "iopub.execute_input": "2025-10-26T06:31:21.010283Z",
          "iopub.status.idle": "2025-10-26T06:31:22.161339Z",
          "shell.execute_reply.started": "2025-10-26T06:31:21.010267Z",
          "shell.execute_reply": "2025-10-26T06:31:22.160466Z"
        },
        "id": "3fKYCr9Gt-sV",
        "outputId": "a74a4778-f67e-4131-b271-d8106835eb6d",
        "colab": {
          "base_uri": "https://localhost:8080/",
          "height": 487
        }
      },
      "outputs": [
        {
          "output_type": "display_data",
          "data": {
            "text/plain": [
              "<Figure size 700x500 with 1 Axes>"
            ],
            "image/png": "[encoded data removed]"
          },
          "metadata": {}
        }
      ],
      "execution_count": 99
    },
    {
      "cell_type": "markdown",
      "source": [
        "Defaults are more common for loans with high interest rates."
      ],
      "metadata": {
        "id": "wPn2g8BEt-sV"
      }
    },
    {
      "cell_type": "code",
      "source": [
        "plt.figure(figsize=(7,5))\n",
        "sns.boxplot(x='loan_default', y='annual_inc', data=df)\n",
        "plt.yscale('log')\n",
        "plt.title('Annual Income vs Default (log-scale)')\n",
        "plt.show()"
      ],
      "metadata": {
        "trusted": true,
        "execution": {
          "iopub.status.busy": "2025-10-26T06:31:22.162304Z",
          "iopub.execute_input": "2025-10-26T06:31:22.162576Z",
          "iopub.status.idle": "2025-10-26T06:31:22.564724Z",
          "shell.execute_reply.started": "2025-10-26T06:31:22.162556Z",
          "shell.execute_reply": "2025-10-26T06:31:22.563632Z"
        },
        "id": "xlueYtHZt-sV",
        "outputId": "526777f3-ae9f-4e67-bfac-0d239ff6c39b",
        "colab": {
          "base_uri": "https://localhost:8080/",
          "height": 487
        }
      },
      "outputs": [
        {
          "output_type": "display_data",
          "data": {
            "text/plain": [
              "<Figure size 700x500 with 1 Axes>"
            ],
            "image/png": "[encoded data removed]"
          },
          "metadata": {}
        }
      ],
      "execution_count": 100
    },
    {
      "cell_type": "markdown",
      "source": [
        "Lower-income applicants tend to default more."
      ],
      "metadata": {
        "id": "6Pad3ITCt-sV"
      }
    },
    {
      "cell_type": "code",
      "source": [
        "fig, axes = plt.subplots(1, 2, figsize=(12,5))\n",
        "\n",
        "sns.countplot(x='grade', hue='loan_default', data=df, ax=axes[0])\n",
        "axes[0].set_title('Loan Grade vs Default')\n",
        "\n",
        "sns.countplot(y='purpose', hue='loan_default', data=df, ax=axes[1])\n",
        "axes[1].set_title('Purpose vs Default')\n",
        "plt.tight_layout()\n",
        "plt.show()"
      ],
      "metadata": {
        "trusted": true,
        "execution": {
          "iopub.status.busy": "2025-10-26T06:31:22.565657Z",
          "iopub.execute_input": "2025-10-26T06:31:22.566269Z",
          "iopub.status.idle": "2025-10-26T06:31:23.342554Z",
          "shell.execute_reply.started": "2025-10-26T06:31:22.566247Z",
          "shell.execute_reply": "2025-10-26T06:31:23.3416Z"
        },
        "id": "sEA9E_39t-sV",
        "outputId": "5152150a-3f1c-44f2-e647-b76767967ef8",
        "colab": {
          "base_uri": "https://localhost:8080/",
          "height": 507
        }
      },
      "outputs": [
        {
          "output_type": "display_data",
          "data": {
            "text/plain": [
              "<Figure size 1200x500 with 2 Axes>"
            ],
            "image/png": "[encoded data removed]"
          },
          "metadata": {}
        }
      ],
      "execution_count": 101
    },
    {
      "cell_type": "markdown",
      "source": [
        "Certain loan grades (e.g., F, G) and purposes (like small_business, debt_consolidation) have higher default risk."
      ],
      "metadata": {
        "id": "MiV6HVIOt-sV"
      }
    },
    {
      "cell_type": "code",
      "source": [
        "plt.figure(figsize=(8,6))\n",
        "sns.heatmap(df[num_cols + ['loan_default']].corr(), annot=True, cmap='coolwarm', fmt=\".2f\")\n",
        "plt.title(\"Correlation Matrix\")\n",
        "plt.show()"
      ],
      "metadata": {
        "trusted": true,
        "execution": {
          "iopub.status.busy": "2025-10-26T06:31:23.343583Z",
          "iopub.execute_input": "2025-10-26T06:31:23.34387Z",
          "iopub.status.idle": "2025-10-26T06:31:23.657681Z",
          "shell.execute_reply.started": "2025-10-26T06:31:23.34385Z",
          "shell.execute_reply": "2025-10-26T06:31:23.656642Z"
        },
        "id": "xj9Hos8gt-sV",
        "outputId": "c9833ab1-3214-4cd2-abd0-5df0fcb1aa13",
        "colab": {
          "base_uri": "https://localhost:8080/",
          "height": 545
        }
      },
      "outputs": [
        {
          "output_type": "display_data",
          "data": {
            "text/plain": [
              "<Figure size 800x600 with 2 Axes>"
            ],
            "image/png": "[encoded data removed]"
          },
          "metadata": {}
        }
      ],
      "execution_count": 102
    },
    {
      "cell_type": "markdown",
      "source": [
        "| **Insight** | **Business Interpretation** |\n",
        "|--------------|-----------------------------|\n",
        "| High interest rate → more defaults | Riskier borrowers are charged more, but also default more |\n",
        "| Low income & high DTI → more defaults | Financially stressed applicants default easily |\n",
        "| Longer term loans (60 months) → higher default | More uncertainty over time |\n",
        "| Lower grade (F, G) → high default | Lending Club’s internal grade works well as a risk proxy |\n",
        "| Purpose: small business, renewable energy → riskier loans | These are less predictable income sources |\n"
      ],
      "metadata": {
        "id": "0NAFBmX3t-sW"
      }
    },
    {
      "cell_type": "code",
      "source": [
        "features = num_cols + cat_cols\n",
        "X = df[features]\n",
        "y = df['loan_default']"
      ],
      "metadata": {
        "trusted": true,
        "execution": {
          "iopub.status.busy": "2025-10-26T06:31:23.658703Z",
          "iopub.execute_input": "2025-10-26T06:31:23.659826Z",
          "iopub.status.idle": "2025-10-26T06:31:23.677206Z",
          "shell.execute_reply.started": "2025-10-26T06:31:23.659794Z",
          "shell.execute_reply": "2025-10-26T06:31:23.676018Z"
        },
        "id": "tMyNYDg4t-sW"
      },
      "outputs": [],
      "execution_count": 103
    },
    {
      "cell_type": "markdown",
      "source": [
        "> **TASK 2**"
      ],
      "metadata": {
        "id": "qwGZOhaat-sW"
      }
    },
    {
      "cell_type": "code",
      "source": [
        "X_train, X_test, y_train, y_test = train_test_split(X, y, test_size=0.2, random_state=42, stratify=y)"
      ],
      "metadata": {
        "trusted": true,
        "execution": {
          "iopub.status.busy": "2025-10-26T06:31:23.678195Z",
          "iopub.execute_input": "2025-10-26T06:31:23.678554Z",
          "iopub.status.idle": "2025-10-26T06:31:23.802737Z",
          "shell.execute_reply.started": "2025-10-26T06:31:23.678527Z",
          "shell.execute_reply": "2025-10-26T06:31:23.801349Z"
        },
        "id": "c17X-pSqt-sW"
      },
      "outputs": [],
      "execution_count": 104
    },
    {
      "cell_type": "code",
      "source": [
        "reward_features = ['loan_amnt', 'int_rate']\n",
        "\n",
        "X_test_reward_features = X_test[reward_features].copy()\n",
        "X_train_reward_features = X_train[reward_features].copy()\n",
        "\n",
        "X_train = X_train[features]\n",
        "X_test = X_test[features]"
      ],
      "metadata": {
        "trusted": true,
        "execution": {
          "iopub.status.busy": "2025-10-26T06:31:23.803738Z",
          "iopub.execute_input": "2025-10-26T06:31:23.804018Z",
          "iopub.status.idle": "2025-10-26T06:31:23.841022Z",
          "shell.execute_reply.started": "2025-10-26T06:31:23.80399Z",
          "shell.execute_reply": "2025-10-26T06:31:23.839928Z"
        },
        "id": "yU7ibq6Dt-sW"
      },
      "outputs": [],
      "execution_count": 105
    },
    {
      "cell_type": "code",
      "source": [
        "numerical_transformer = StandardScaler()\n",
        "categorical_transformer = OneHotEncoder(handle_unknown='ignore')\n",
        "\n",
        "preprocessor = ColumnTransformer(\n",
        "    transformers=[\n",
        "        ('num', numerical_transformer, num_cols),\n",
        "        ('cat', categorical_transformer, cat_cols)\n",
        "    ])\n",
        "\n",
        "\n",
        "X_train_processed = preprocessor.fit_transform(X_train)\n",
        "X_test_processed = preprocessor.transform(X_test)\n",
        "\n",
        "feature_names = (\n",
        "    num_cols +\n",
        "    list(preprocessor.named_transformers_['cat'].get_feature_names_out(cat_cols))\n",
        ")\n",
        "\n",
        "# Convert to dense arrays if they are sparse (Keras prefers dense)\n",
        "if hasattr(X_train_processed, \"toarray\"):\n",
        "    X_train_processed = X_train_processed.toarray()\n",
        "    X_test_processed = X_test_processed.toarray()\n",
        "\n",
        "print(f\"Processed training data shape: {X_train_processed.shape}\")\n",
        "print(f\"Processed test data shape: {X_test_processed.shape}\")"
      ],
      "metadata": {
        "trusted": true,
        "execution": {
          "iopub.status.busy": "2025-10-26T06:31:23.842034Z",
          "iopub.execute_input": "2025-10-26T06:31:23.842333Z",
          "iopub.status.idle": "2025-10-26T06:31:24.400941Z",
          "shell.execute_reply.started": "2025-10-26T06:31:23.842307Z",
          "shell.execute_reply": "2025-10-26T06:31:24.399949Z"
        },
        "id": "hJWzNp5ft-sW",
        "outputId": "0bcd5bad-9ec7-4f9c-b657-08c9dace2857",
        "colab": {
          "base_uri": "https://localhost:8080/"
        }
      },
      "outputs": [
        {
          "output_type": "stream",
          "name": "stdout",
          "text": [
            "Processed training data shape: (140866, 76)\n",
            "Processed test data shape: (35217, 76)\n"
          ]
        }
      ],
      "execution_count": 106
    },
    {
      "cell_type": "code",
      "source": [
        "input_dim = X_train_processed.shape[1]"
      ],
      "metadata": {
        "trusted": true,
        "execution": {
          "iopub.status.busy": "2025-10-26T06:31:24.401877Z",
          "iopub.execute_input": "2025-10-26T06:31:24.402098Z",
          "iopub.status.idle": "2025-10-26T06:31:24.406249Z",
          "shell.execute_reply.started": "2025-10-26T06:31:24.402082Z",
          "shell.execute_reply": "2025-10-26T06:31:24.405489Z"
        },
        "id": "Ipsg9cVLt-sW"
      },
      "outputs": [],
      "execution_count": 107
    },
    {
      "cell_type": "code",
      "source": [
        "model = keras.Sequential([\n",
        "    layers.Input(shape=(input_dim,)),\n",
        "    layers.BatchNormalization(),\n",
        "\n",
        "    layers.Dense(64, activation='relu'),\n",
        "    layers.Dropout(0.4),\n",
        "    layers.BatchNormalization(),\n",
        "\n",
        "    layers.Dense(32, activation='relu'),\n",
        "    layers.Dropout(0.3),\n",
        "\n",
        "    layers.Dense(1, activation='sigmoid')\n",
        "])"
      ],
      "metadata": {
        "trusted": true,
        "execution": {
          "iopub.status.busy": "2025-10-26T06:31:24.407517Z",
          "iopub.execute_input": "2025-10-26T06:31:24.407838Z",
          "iopub.status.idle": "2025-10-26T06:31:24.534738Z",
          "shell.execute_reply.started": "2025-10-26T06:31:24.40781Z",
          "shell.execute_reply": "2025-10-26T06:31:24.53377Z"
        },
        "id": "xqIS_guat-sW"
      },
      "outputs": [],
      "execution_count": 108
    },
    {
      "cell_type": "code",
      "source": [
        "model.compile(\n",
        "    optimizer='adam',\n",
        "    loss='binary_crossentropy',\n",
        "    metrics=['accuracy', tf.keras.metrics.AUC(name='auc')]\n",
        ")\n",
        "\n",
        "model.summary()"
      ],
      "metadata": {
        "trusted": true,
        "execution": {
          "iopub.status.busy": "2025-10-26T06:31:24.535559Z",
          "iopub.execute_input": "2025-10-26T06:31:24.53597Z",
          "iopub.status.idle": "2025-10-26T06:31:24.575775Z",
          "shell.execute_reply.started": "2025-10-26T06:31:24.535949Z",
          "shell.execute_reply": "2025-10-26T06:31:24.574724Z"
        },
        "id": "ZTxB0Y7it-sX",
        "outputId": "3a01a512-0a4e-44a3-86b4-ae3c786fc14e",
        "colab": {
          "base_uri": "https://localhost:8080/",
          "height": 385
        }
      },
      "outputs": [
        {
          "output_type": "display_data",
          "data": {
            "text/plain": [
              "\u001b[1mModel: \"sequential_1\"\u001b[0m\n"
            ],
            "text/html": [
              "<pre style=\"white-space:pre;overflow-x:auto;line-height:normal;font-family:Menlo,'DejaVu Sans Mono',consolas,'Courier New',monospace\"><span style=\"font-weight: bold\">Model: \"sequential_1\"</span>\n",
              "</pre>\n"
            ]
          },
          "metadata": {}
        },
        {
          "output_type": "display_data",
          "data": {
            "text/plain": [
              "┏━━━━━━━━━━━━━━━━━━━━━━━━━━━━━━━━━┳━━━━━━━━━━━━━━━━━━━━━━━━┳━━━━━━━━━━━━━━━┓\n",
              "┃\u001b[1m \u001b[0m\u001b[1mLayer (type)                   \u001b[0m\u001b[1m \u001b[0m┃\u001b[1m \u001b[0m\u001b[1mOutput Shape          \u001b[0m\u001b[1m \u001b[0m┃\u001b[1m \u001b[0m\u001b[1m      Param #\u001b[0m\u001b[1m \u001b[0m┃\n",
              "┡━━━━━━━━━━━━━━━━━━━━━━━━━━━━━━━━━╇━━━━━━━━━━━━━━━━━━━━━━━━╇━━━━━━━━━━━━━━━┩\n",
              "│ batch_normalization_2           │ (\u001b[38;5;45mNone\u001b[0m, \u001b[38;5;34m76\u001b[0m)             │           \u001b[38;5;34m304\u001b[0m │\n",
              "│ (\u001b[38;5;33mBatchNormalization\u001b[0m)            │                        │               │\n",
              "├─────────────────────────────────┼────────────────────────┼───────────────┤\n",
              "│ dense_3 (\u001b[38;5;33mDense\u001b[0m)                 │ (\u001b[38;5;45mNone\u001b[0m, \u001b[38;5;34m64\u001b[0m)             │         \u001b[38;5;34m4,928\u001b[0m │\n",
              "├─────────────────────────────────┼────────────────────────┼───────────────┤\n",
              "│ dropout_2 (\u001b[38;5;33mDropout\u001b[0m)             │ (\u001b[38;5;45mNone\u001b[0m, \u001b[38;5;34m64\u001b[0m)             │             \u001b[38;5;34m0\u001b[0m │\n",
              "├─────────────────────────────────┼────────────────────────┼───────────────┤\n",
              "│ batch_normalization_3           │ (\u001b[38;5;45mNone\u001b[0m, \u001b[38;5;34m64\u001b[0m)             │           \u001b[38;5;34m256\u001b[0m │\n",
              "│ (\u001b[38;5;33mBatchNormalization\u001b[0m)            │                        │               │\n",
              "├─────────────────────────────────┼────────────────────────┼───────────────┤\n",
              "│ dense_4 (\u001b[38;5;33mDense\u001b[0m)                 │ (\u001b[38;5;45mNone\u001b[0m, \u001b[38;5;34m32\u001b[0m)             │         \u001b[38;5;34m2,080\u001b[0m │\n",
              "├─────────────────────────────────┼────────────────────────┼───────────────┤\n",
              "│ dropout_3 (\u001b[38;5;33mDropout\u001b[0m)             │ (\u001b[38;5;45mNone\u001b[0m, \u001b[38;5;34m32\u001b[0m)             │             \u001b[38;5;34m0\u001b[0m │\n",
              "├─────────────────────────────────┼────────────────────────┼───────────────┤\n",
              "│ dense_5 (\u001b[38;5;33mDense\u001b[0m)                 │ (\u001b[38;5;45mNone\u001b[0m, \u001b[38;5;34m1\u001b[0m)              │            \u001b[38;5;34m33\u001b[0m │\n",
              "└─────────────────────────────────┴────────────────────────┴───────────────┘\n"
            ],
            "text/html": [
              "<pre style=\"white-space:pre;overflow-x:auto;line-height:normal;font-family:Menlo,'DejaVu Sans Mono',consolas,'Courier New',monospace\">┏━━━━━━━━━━━━━━━━━━━━━━━━━━━━━━━━━┳━━━━━━━━━━━━━━━━━━━━━━━━┳━━━━━━━━━━━━━━━┓\n",
              "┃<span style=\"font-weight: bold\"> Layer (type)                    </span>┃<span style=\"font-weight: bold\"> Output Shape           </span>┃<span style=\"font-weight: bold\">       Param # </span>┃\n",
              "┡━━━━━━━━━━━━━━━━━━━━━━━━━━━━━━━━━╇━━━━━━━━━━━━━━━━━━━━━━━━╇━━━━━━━━━━━━━━━┩\n",
              "│ batch_normalization_2           │ (<span style=\"color: #00d7ff; text-decoration-color: #00d7ff\">None</span>, <span style=\"color: #00af00; text-decoration-color: #00af00\">76</span>)             │           <span style=\"color: #00af00; text-decoration-color: #00af00\">304</span> │\n",
              "│ (<span style=\"color: #0087ff; text-decoration-color: #0087ff\">BatchNormalization</span>)            │                        │               │\n",
              "├─────────────────────────────────┼────────────────────────┼───────────────┤\n",
              "│ dense_3 (<span style=\"color: #0087ff; text-decoration-color: #0087ff\">Dense</span>)                 │ (<span style=\"color: #00d7ff; text-decoration-color: #00d7ff\">None</span>, <span style=\"color: #00af00; text-decoration-color: #00af00\">64</span>)             │         <span style=\"color: #00af00; text-decoration-color: #00af00\">4,928</span> │\n",
              "├─────────────────────────────────┼────────────────────────┼───────────────┤\n",
              "│ dropout_2 (<span style=\"color: #0087ff; text-decoration-color: #0087ff\">Dropout</span>)             │ (<span style=\"color: #00d7ff; text-decoration-color: #00d7ff\">None</span>, <span style=\"color: #00af00; text-decoration-color: #00af00\">64</span>)             │             <span style=\"color: #00af00; text-decoration-color: #00af00\">0</span> │\n",
              "├─────────────────────────────────┼────────────────────────┼───────────────┤\n",
              "│ batch_normalization_3           │ (<span style=\"color: #00d7ff; text-decoration-color: #00d7ff\">None</span>, <span style=\"color: #00af00; text-decoration-color: #00af00\">64</span>)             │           <span style=\"color: #00af00; text-decoration-color: #00af00\">256</span> │\n",
              "│ (<span style=\"color: #0087ff; text-decoration-color: #0087ff\">BatchNormalization</span>)            │                        │               │\n",
              "├─────────────────────────────────┼────────────────────────┼───────────────┤\n",
              "│ dense_4 (<span style=\"color: #0087ff; text-decoration-color: #0087ff\">Dense</span>)                 │ (<span style=\"color: #00d7ff; text-decoration-color: #00d7ff\">None</span>, <span style=\"color: #00af00; text-decoration-color: #00af00\">32</span>)             │         <span style=\"color: #00af00; text-decoration-color: #00af00\">2,080</span> │\n",
              "├─────────────────────────────────┼────────────────────────┼───────────────┤\n",
              "│ dropout_3 (<span style=\"color: #0087ff; text-decoration-color: #0087ff\">Dropout</span>)             │ (<span style=\"color: #00d7ff; text-decoration-color: #00d7ff\">None</span>, <span style=\"color: #00af00; text-decoration-color: #00af00\">32</span>)             │             <span style=\"color: #00af00; text-decoration-color: #00af00\">0</span> │\n",
              "├─────────────────────────────────┼────────────────────────┼───────────────┤\n",
              "│ dense_5 (<span style=\"color: #0087ff; text-decoration-color: #0087ff\">Dense</span>)                 │ (<span style=\"color: #00d7ff; text-decoration-color: #00d7ff\">None</span>, <span style=\"color: #00af00; text-decoration-color: #00af00\">1</span>)              │            <span style=\"color: #00af00; text-decoration-color: #00af00\">33</span> │\n",
              "└─────────────────────────────────┴────────────────────────┴───────────────┘\n",
              "</pre>\n"
            ]
          },
          "metadata": {}
        },
        {
          "output_type": "display_data",
          "data": {
            "text/plain": [
              "\u001b[1m Total params: \u001b[0m\u001b[38;5;34m7,601\u001b[0m (29.69 KB)\n"
            ],
            "text/html": [
              "<pre style=\"white-space:pre;overflow-x:auto;line-height:normal;font-family:Menlo,'DejaVu Sans Mono',consolas,'Courier New',monospace\"><span style=\"font-weight: bold\"> Total params: </span><span style=\"color: #00af00; text-decoration-color: #00af00\">7,601</span> (29.69 KB)\n",
              "</pre>\n"
            ]
          },
          "metadata": {}
        },
        {
          "output_type": "display_data",
          "data": {
            "text/plain": [
              "\u001b[1m Trainable params: \u001b[0m\u001b[38;5;34m7,321\u001b[0m (28.60 KB)\n"
            ],
            "text/html": [
              "<pre style=\"white-space:pre;overflow-x:auto;line-height:normal;font-family:Menlo,'DejaVu Sans Mono',consolas,'Courier New',monospace\"><span style=\"font-weight: bold\"> Trainable params: </span><span style=\"color: #00af00; text-decoration-color: #00af00\">7,321</span> (28.60 KB)\n",
              "</pre>\n"
            ]
          },
          "metadata": {}
        },
        {
          "output_type": "display_data",
          "data": {
            "text/plain": [
              "\u001b[1m Non-trainable params: \u001b[0m\u001b[38;5;34m280\u001b[0m (1.09 KB)\n"
            ],
            "text/html": [
              "<pre style=\"white-space:pre;overflow-x:auto;line-height:normal;font-family:Menlo,'DejaVu Sans Mono',consolas,'Courier New',monospace\"><span style=\"font-weight: bold\"> Non-trainable params: </span><span style=\"color: #00af00; text-decoration-color: #00af00\">280</span> (1.09 KB)\n",
              "</pre>\n"
            ]
          },
          "metadata": {}
        }
      ],
      "execution_count": 109
    },
    {
      "cell_type": "code",
      "source": [
        "neg, pos = np.bincount(y_train)\n",
        "total = neg + pos\n",
        "weight_for_0 = (1 / neg) * (total / 2.0)\n",
        "weight_for_1 = (1 / pos) * (total / 2.0)\n",
        "class_weight = {0: weight_for_0, 1: weight_for_1}\n",
        "\n",
        "print(f\"Class weights: {{0: {weight_for_0:.2f}, 1: {weight_for_1:.2f}}}\")"
      ],
      "metadata": {
        "trusted": true,
        "execution": {
          "iopub.status.busy": "2025-10-26T06:31:24.57936Z",
          "iopub.execute_input": "2025-10-26T06:31:24.579707Z",
          "iopub.status.idle": "2025-10-26T06:31:24.586626Z",
          "shell.execute_reply.started": "2025-10-26T06:31:24.579685Z",
          "shell.execute_reply": "2025-10-26T06:31:24.585348Z"
        },
        "id": "tSs1_qLKt-sX",
        "outputId": "df92f805-8cfa-44e5-e7d6-470f06290abe",
        "colab": {
          "base_uri": "https://localhost:8080/"
        }
      },
      "outputs": [
        {
          "output_type": "stream",
          "name": "stdout",
          "text": [
            "Class weights: {0: 0.62, 1: 2.51}\n"
          ]
        }
      ],
      "execution_count": 110
    },
    {
      "cell_type": "code",
      "source": [
        "early_stopping = EarlyStopping(\n",
        "    monitor='val_auc',\n",
        "    patience=3,\n",
        "    mode='max',\n",
        "    restore_best_weights=True\n",
        ")\n",
        "\n",
        "history = model.fit(\n",
        "    X_train_processed,\n",
        "    y_train,\n",
        "    epochs=20,\n",
        "    batch_size=512,\n",
        "    validation_data=(X_test_processed, y_test),\n",
        "    class_weight=class_weight,\n",
        "    callbacks=[early_stopping],\n",
        "    verbose=1\n",
        ")"
      ],
      "metadata": {
        "trusted": true,
        "execution": {
          "iopub.status.busy": "2025-10-26T06:31:24.587609Z",
          "iopub.execute_input": "2025-10-26T06:31:24.587929Z",
          "iopub.status.idle": "2025-10-26T06:32:01.092089Z",
          "shell.execute_reply.started": "2025-10-26T06:31:24.587906Z",
          "shell.execute_reply": "2025-10-26T06:32:01.091213Z"
        },
        "id": "MULHXmdqt-sX",
        "outputId": "a6a904f0-11b4-46e3-cdbd-2b73c16522a6",
        "colab": {
          "base_uri": "https://localhost:8080/"
        }
      },
      "outputs": [
        {
          "output_type": "stream",
          "name": "stdout",
          "text": [
            "Epoch 1/20\n",
            "\u001b[1m276/276\u001b[0m \u001b[32m━━━━━━━━━━━━━━━━━━━━\u001b[0m\u001b[37m\u001b[0m \u001b[1m17s\u001b[0m 42ms/step - accuracy: 0.5383 - auc: 0.6136 - loss: 0.7255 - val_accuracy: 0.7094 - val_auc: 0.7272 - val_loss: 0.5738\n",
            "Epoch 2/20\n",
            "\u001b[1m276/276\u001b[0m \u001b[32m━━━━━━━━━━━━━━━━━━━━\u001b[0m\u001b[37m\u001b[0m \u001b[1m5s\u001b[0m 19ms/step - accuracy: 0.6539 - auc: 0.7066 - loss: 0.6294 - val_accuracy: 0.6873 - val_auc: 0.7305 - val_loss: 0.5807\n",
            "Epoch 3/20\n",
            "\u001b[1m276/276\u001b[0m \u001b[32m━━━━━━━━━━━━━━━━━━━━\u001b[0m\u001b[37m\u001b[0m \u001b[1m4s\u001b[0m 13ms/step - accuracy: 0.6706 - auc: 0.7229 - loss: 0.6158 - val_accuracy: 0.6786 - val_auc: 0.7317 - val_loss: 0.5929\n",
            "Epoch 4/20\n",
            "\u001b[1m276/276\u001b[0m \u001b[32m━━━━━━━━━━━━━━━━━━━━\u001b[0m\u001b[37m\u001b[0m \u001b[1m4s\u001b[0m 13ms/step - accuracy: 0.6676 - auc: 0.7274 - loss: 0.6117 - val_accuracy: 0.6728 - val_auc: 0.7323 - val_loss: 0.5964\n",
            "Epoch 5/20\n",
            "\u001b[1m276/276\u001b[0m \u001b[32m━━━━━━━━━━━━━━━━━━━━\u001b[0m\u001b[37m\u001b[0m \u001b[1m3s\u001b[0m 9ms/step - accuracy: 0.6670 - auc: 0.7275 - loss: 0.6123 - val_accuracy: 0.6749 - val_auc: 0.7325 - val_loss: 0.5836\n",
            "Epoch 6/20\n",
            "\u001b[1m276/276\u001b[0m \u001b[32m━━━━━━━━━━━━━━━━━━━━\u001b[0m\u001b[37m\u001b[0m \u001b[1m2s\u001b[0m 8ms/step - accuracy: 0.6651 - auc: 0.7276 - loss: 0.6111 - val_accuracy: 0.6750 - val_auc: 0.7327 - val_loss: 0.5945\n",
            "Epoch 7/20\n",
            "\u001b[1m276/276\u001b[0m \u001b[32m━━━━━━━━━━━━━━━━━━━━\u001b[0m\u001b[37m\u001b[0m \u001b[1m2s\u001b[0m 7ms/step - accuracy: 0.6699 - auc: 0.7301 - loss: 0.6081 - val_accuracy: 0.6638 - val_auc: 0.7333 - val_loss: 0.5994\n",
            "Epoch 8/20\n",
            "\u001b[1m276/276\u001b[0m \u001b[32m━━━━━━━━━━━━━━━━━━━━\u001b[0m\u001b[37m\u001b[0m \u001b[1m2s\u001b[0m 7ms/step - accuracy: 0.6647 - auc: 0.7345 - loss: 0.6055 - val_accuracy: 0.6609 - val_auc: 0.7333 - val_loss: 0.6099\n",
            "Epoch 9/20\n",
            "\u001b[1m276/276\u001b[0m \u001b[32m━━━━━━━━━━━━━━━━━━━━\u001b[0m\u001b[37m\u001b[0m \u001b[1m2s\u001b[0m 7ms/step - accuracy: 0.6630 - auc: 0.7299 - loss: 0.6089 - val_accuracy: 0.6619 - val_auc: 0.7332 - val_loss: 0.5970\n",
            "Epoch 10/20\n",
            "\u001b[1m276/276\u001b[0m \u001b[32m━━━━━━━━━━━━━━━━━━━━\u001b[0m\u001b[37m\u001b[0m \u001b[1m4s\u001b[0m 13ms/step - accuracy: 0.6631 - auc: 0.7308 - loss: 0.6069 - val_accuracy: 0.6582 - val_auc: 0.7335 - val_loss: 0.6047\n",
            "Epoch 11/20\n",
            "\u001b[1m276/276\u001b[0m \u001b[32m━━━━━━━━━━━━━━━━━━━━\u001b[0m\u001b[37m\u001b[0m \u001b[1m4s\u001b[0m 14ms/step - accuracy: 0.6595 - auc: 0.7326 - loss: 0.6058 - val_accuracy: 0.6663 - val_auc: 0.7337 - val_loss: 0.5980\n",
            "Epoch 12/20\n",
            "\u001b[1m276/276\u001b[0m \u001b[32m━━━━━━━━━━━━━━━━━━━━\u001b[0m\u001b[37m\u001b[0m \u001b[1m3s\u001b[0m 7ms/step - accuracy: 0.6650 - auc: 0.7313 - loss: 0.6085 - val_accuracy: 0.6660 - val_auc: 0.7336 - val_loss: 0.5995\n",
            "Epoch 13/20\n",
            "\u001b[1m276/276\u001b[0m \u001b[32m━━━━━━━━━━━━━━━━━━━━\u001b[0m\u001b[37m\u001b[0m \u001b[1m2s\u001b[0m 7ms/step - accuracy: 0.6620 - auc: 0.7339 - loss: 0.6055 - val_accuracy: 0.6719 - val_auc: 0.7336 - val_loss: 0.5956\n",
            "Epoch 14/20\n",
            "\u001b[1m276/276\u001b[0m \u001b[32m━━━━━━━━━━━━━━━━━━━━\u001b[0m\u001b[37m\u001b[0m \u001b[1m2s\u001b[0m 7ms/step - accuracy: 0.6634 - auc: 0.7316 - loss: 0.6102 - val_accuracy: 0.6735 - val_auc: 0.7338 - val_loss: 0.5968\n",
            "Epoch 15/20\n",
            "\u001b[1m276/276\u001b[0m \u001b[32m━━━━━━━━━━━━━━━━━━━━\u001b[0m\u001b[37m\u001b[0m \u001b[1m2s\u001b[0m 7ms/step - accuracy: 0.6684 - auc: 0.7335 - loss: 0.6037 - val_accuracy: 0.6649 - val_auc: 0.7340 - val_loss: 0.5962\n",
            "Epoch 16/20\n",
            "\u001b[1m276/276\u001b[0m \u001b[32m━━━━━━━━━━━━━━━━━━━━\u001b[0m\u001b[37m\u001b[0m \u001b[1m4s\u001b[0m 13ms/step - accuracy: 0.6563 - auc: 0.7305 - loss: 0.6079 - val_accuracy: 0.6652 - val_auc: 0.7339 - val_loss: 0.6007\n",
            "Epoch 17/20\n",
            "\u001b[1m276/276\u001b[0m \u001b[32m━━━━━━━━━━━━━━━━━━━━\u001b[0m\u001b[37m\u001b[0m \u001b[1m4s\u001b[0m 10ms/step - accuracy: 0.6626 - auc: 0.7305 - loss: 0.6098 - val_accuracy: 0.6705 - val_auc: 0.7341 - val_loss: 0.5933\n",
            "Epoch 18/20\n",
            "\u001b[1m276/276\u001b[0m \u001b[32m━━━━━━━━━━━━━━━━━━━━\u001b[0m\u001b[37m\u001b[0m \u001b[1m2s\u001b[0m 7ms/step - accuracy: 0.6648 - auc: 0.7363 - loss: 0.6039 - val_accuracy: 0.6629 - val_auc: 0.7342 - val_loss: 0.6027\n",
            "Epoch 19/20\n",
            "\u001b[1m276/276\u001b[0m \u001b[32m━━━━━━━━━━━━━━━━━━━━\u001b[0m\u001b[37m\u001b[0m \u001b[1m2s\u001b[0m 7ms/step - accuracy: 0.6605 - auc: 0.7362 - loss: 0.6045 - val_accuracy: 0.6629 - val_auc: 0.7340 - val_loss: 0.6069\n",
            "Epoch 20/20\n",
            "\u001b[1m276/276\u001b[0m \u001b[32m━━━━━━━━━━━━━━━━━━━━\u001b[0m\u001b[37m\u001b[0m \u001b[1m2s\u001b[0m 7ms/step - accuracy: 0.6635 - auc: 0.7350 - loss: 0.6058 - val_accuracy: 0.6724 - val_auc: 0.7338 - val_loss: 0.5906\n"
          ]
        }
      ],
      "execution_count": 111
    },
    {
      "cell_type": "code",
      "source": [
        "y_pred_proba = model.predict(X_test_processed).flatten()\n",
        "y_pred_class = (y_pred_proba > 0.5).astype(int)\n",
        "\n",
        "\n",
        "auc = roc_auc_score(y_test, y_pred_proba)\n",
        "print(f\"Test AUC (Area Under the ROC Curve): {auc:.4f}\")\n",
        "\n",
        "\n",
        "f1 = f1_score(y_test, y_pred_class)\n",
        "print(f\"Test F1-Score (at 0.5 threshold): {f1:.4f}\")\n",
        "\n",
        "\n",
        "print(\"\\nClassification Report:\")\n",
        "print(classification_report(y_test, y_pred_class, target_names=['Fully Paid (0)', 'Defaulted (1)']))\n",
        "\n",
        "\n",
        "print(\"\\nConfusion Matrix:\")\n",
        "cm = confusion_matrix(y_test, y_pred_class)\n",
        "plt.figure(figsize=(8, 6))\n",
        "sns.heatmap(cm, annot=True, fmt='d', cmap='Blues',\n",
        "            xticklabels=['Predicted Paid', 'Predicted Default'],\n",
        "            yticklabels=['Actual Paid', 'Actual Default'])\n",
        "plt.title('Confusion Matrix')\n",
        "plt.ylabel('Actual Label')\n",
        "plt.xlabel('Predicted Label')\n",
        "plt.show()\n",
        "\n",
        "model.save('dl_model.h5')\n",
        "print(\"Model saved.\")"
      ],
      "metadata": {
        "trusted": true,
        "execution": {
          "iopub.status.busy": "2025-10-26T06:32:01.093582Z",
          "iopub.execute_input": "2025-10-26T06:32:01.093956Z",
          "iopub.status.idle": "2025-10-26T06:32:03.435577Z",
          "shell.execute_reply.started": "2025-10-26T06:32:01.093923Z",
          "shell.execute_reply": "2025-10-26T06:32:03.434497Z"
        },
        "id": "VTARiFTbt-sX",
        "outputId": "968cbe2a-2a54-48ba-985e-7813ae68d18d",
        "colab": {
          "base_uri": "https://localhost:8080/",
          "height": 896
        }
      },
      "outputs": [
        {
          "output_type": "stream",
          "name": "stdout",
          "text": [
            "\u001b[1m1101/1101\u001b[0m \u001b[32m━━━━━━━━━━━━━━━━━━━━\u001b[0m\u001b[37m\u001b[0m \u001b[1m2s\u001b[0m 1ms/step\n",
            "Test AUC (Area Under the ROC Curve): 0.7342\n",
            "Test F1-Score (at 0.5 threshold): 0.4467\n",
            "\n",
            "Classification Report:\n",
            "                precision    recall  f1-score   support\n",
            "\n",
            "Fully Paid (0)       0.89      0.66      0.76     28199\n",
            " Defaulted (1)       0.33      0.68      0.45      7018\n",
            "\n",
            "      accuracy                           0.66     35217\n",
            "     macro avg       0.61      0.67      0.60     35217\n",
            "  weighted avg       0.78      0.66      0.70     35217\n",
            "\n",
            "\n",
            "Confusion Matrix:\n"
          ]
        },
        {
          "output_type": "display_data",
          "data": {
            "text/plain": [
              "<Figure size 800x600 with 2 Axes>"
            ],
            "image/png": "[encoded data removed]"
          },
          "metadata": {}
        },
        {
          "output_type": "stream",
          "name": "stderr",
          "text": [
            "WARNING:absl:You are saving your model as an HDF5 file via `model.save()` or `keras.saving.save_model(model)`. This file format is considered legacy. We recommend using instead the native Keras format, e.g. `model.save('my_model.keras')` or `keras.saving.save_model(model, 'my_model.keras')`. \n"
          ]
        },
        {
          "output_type": "stream",
          "name": "stdout",
          "text": [
            "Model saved.\n"
          ]
        }
      ],
      "execution_count": 112
    },
    {
      "cell_type": "code",
      "source": [
        "print(\"Displaying training history plots...\")\n",
        "fig, (ax1, ax2) = plt.subplots(1, 2, figsize=(16, 6))\n",
        "\n",
        "# Plot 1: Loss\n",
        "ax1.plot(history.history['loss'], label='Training Loss')\n",
        "ax1.plot(history.history['val_loss'], label='Validation Loss')\n",
        "ax1.set_title('Model Loss per Epoch')\n",
        "ax1.set_xlabel('Epoch')\n",
        "ax1.set_ylabel('Binary Crossentropy Loss')\n",
        "ax1.legend()\n",
        "\n",
        "# Plot 2: AUC\n",
        "ax2.plot(history.history['auc'], label='Training AUC')\n",
        "ax2.plot(history.history['val_auc'], label='Validation AUC')\n",
        "ax2.set_title('Model AUC per Epoch')\n",
        "ax2.set_xlabel('Epoch')\n",
        "ax2.set_ylabel('AUC Score')\n",
        "ax2.legend()\n",
        "\n",
        "plt.tight_layout()\n",
        "plt.show()"
      ],
      "metadata": {
        "trusted": true,
        "execution": {
          "iopub.status.busy": "2025-10-26T06:32:03.436554Z",
          "iopub.execute_input": "2025-10-26T06:32:03.43686Z",
          "iopub.status.idle": "2025-10-26T06:32:03.931883Z",
          "shell.execute_reply.started": "2025-10-26T06:32:03.436835Z",
          "shell.execute_reply": "2025-10-26T06:32:03.930778Z"
        },
        "id": "OM8_NhRBt-sX",
        "outputId": "62ec851a-ca4d-4ba2-f9fd-cdd68a2d41ee",
        "colab": {
          "base_uri": "https://localhost:8080/",
          "height": 550
        }
      },
      "outputs": [
        {
          "output_type": "stream",
          "name": "stdout",
          "text": [
            "Displaying training history plots...\n"
          ]
        },
        {
          "output_type": "display_data",
          "data": {
            "text/plain": [
              "<Figure size 1600x600 with 2 Axes>"
            ],
            "image/png": "[encoded data removed]"
          },
          "metadata": {}
        }
      ],
      "execution_count": 113
    },
    {
      "cell_type": "code",
      "source": [
        "np.savez_compressed(\n",
        "    'task_3_data.npz',\n",
        "    X_train_processed=X_train_processed,\n",
        "    y_train=y_train,\n",
        "    X_test_processed=X_test_processed,\n",
        "    y_test=y_test,\n",
        "    X_train_reward_features=X_train_reward_features.values,\n",
        "    X_test_reward_features=X_test_reward_features.values,\n",
        "    feature_names=feature_names\n",
        ")\n",
        "print(\"Data saved to 'task_3_data.npz'.\")"
      ],
      "metadata": {
        "trusted": true,
        "execution": {
          "iopub.status.busy": "2025-10-26T06:32:03.933253Z",
          "iopub.execute_input": "2025-10-26T06:32:03.933659Z",
          "iopub.status.idle": "2025-10-26T06:32:05.394994Z",
          "shell.execute_reply.started": "2025-10-26T06:32:03.933628Z",
          "shell.execute_reply": "2025-10-26T06:32:05.394124Z"
        },
        "id": "17K1Y_Hht-sX",
        "outputId": "9de8499c-d21a-4150-c36d-657ae18a9036",
        "colab": {
          "base_uri": "https://localhost:8080/"
        }
      },
      "outputs": [
        {
          "output_type": "stream",
          "name": "stdout",
          "text": [
            "Data saved to 'task_3_data.npz'.\n"
          ]
        }
      ],
      "execution_count": 114
    },
    {
      "cell_type": "markdown",
      "source": [
        "> **TASK 3**"
      ],
      "metadata": {
        "id": "Y3GSD22xt-sf"
      }
    },
    {
      "cell_type": "code",
      "source": [
        "import d3rlpy\n",
        "from d3rlpy.dataset import MDPDataset\n",
        "from d3rlpy.algos import DiscreteCQLConfig\n",
        "\n",
        "from d3rlpy.metrics import InitialStateValueEstimationEvaluator\n",
        "from d3rlpy.metrics import DiscreteActionMatchEvaluator\n",
        "\n",
        "warnings.filterwarnings('ignore')"
      ],
      "metadata": {
        "id": "NpYYFuO-uQXx"
      },
      "execution_count": 115,
      "outputs": []
    },
    {
      "cell_type": "code",
      "source": [
        "print(\"Step 1: Loading data from 'task_3_data.npz'...\")\n",
        "data = np.load('task_3_data.npz', allow_pickle=True)\n",
        "X_train_processed = data['X_train_processed']\n",
        "y_train = data['y_train']\n",
        "X_train_reward_features = data['X_train_reward_features']\n",
        "X_test_processed = data['X_test_processed']\n",
        "y_test = data['y_test']\n",
        "X_test_reward_features = data['X_test_reward_features']\n",
        "feature_names = data['feature_names']\n",
        "print(f\"Loaded training states: {X_train_processed.shape}\")\n",
        "\n",
        "\n",
        "\n",
        "print(\"\\nStep 2: Engineering the offline RL dataset...\")\n",
        "\n",
        "def create_rl_dataset(states, outcomes, reward_features):\n",
        "    num_samples = len(states)\n",
        "\n",
        "    # Data for Action 1 (Approve)\n",
        "    approved_states = states\n",
        "    approved_actions = np.ones(num_samples, dtype=int)\n",
        "    loan_amnt = reward_features[:, 0]\n",
        "    int_rate = reward_features[:, 1]\n",
        "    approved_rewards = np.where(\n",
        "        outcomes == 0,\n",
        "        (loan_amnt * int_rate / 100.0),\n",
        "        -loan_amnt\n",
        "    ).astype(float)\n",
        "    approved_terminals = np.ones(num_samples, dtype=float)\n",
        "\n",
        "    # Synthetic Data for Action 0 (Deny)\n",
        "    denied_states = states\n",
        "    denied_actions = np.zeros(num_samples, dtype=int)\n",
        "    denied_rewards = np.zeros(num_samples, dtype=float)\n",
        "    denied_terminals = np.ones(num_samples, dtype=float)\n",
        "\n",
        "    # Combine (UnboundLocalError fixed)\n",
        "    all_states = np.concatenate([approved_states, denied_states])\n",
        "    all_actions = np.concatenate([approved_actions, denied_actions])\n",
        "    all_rewards = np.concatenate([approved_rewards, denied_rewards])\n",
        "    all_terminals = np.concatenate([approved_terminals, denied_terminals])\n",
        "\n",
        "    return MDPDataset(\n",
        "        observations=all_states.astype(np.float32),\n",
        "        actions=all_actions.astype(np.uint8),\n",
        "        rewards=all_rewards.astype(np.float32),\n",
        "        terminals=all_terminals.astype(np.float32)\n",
        "    )\n",
        "\n",
        "train_dataset = create_rl_dataset(X_train_processed, y_train, X_train_reward_features)\n",
        "test_dataset = create_rl_dataset(X_test_processed, y_test, X_test_reward_features)\n",
        "\n",
        "print(f\"Total training transitions (real + synthetic): {train_dataset.size()}\")"
      ],
      "metadata": {
        "colab": {
          "base_uri": "https://localhost:8080/"
        },
        "id": "MTmQmOSdwc4i",
        "outputId": "98800f87-18d3-4025-b0fe-2137204d4585"
      },
      "execution_count": 116,
      "outputs": [
        {
          "output_type": "stream",
          "name": "stdout",
          "text": [
            "Step 1: Loading data from 'task_3_data.npz'...\n",
            "Loaded training states: (140866, 76)\n",
            "\n",
            "Step 2: Engineering the offline RL dataset...\n",
            "\u001b[2m2025-10-26 09:59.09\u001b[0m [\u001b[32m\u001b[1minfo     \u001b[0m] \u001b[1mSignatures have been automatically determined.\u001b[0m \u001b[36maction_signature\u001b[0m=\u001b[35mSignature(dtype=[dtype('uint8')], shape=[(1,)])\u001b[0m \u001b[36mobservation_signature\u001b[0m=\u001b[35mSignature(dtype=[dtype('float32')], shape=[(76,)])\u001b[0m \u001b[36mreward_signature\u001b[0m=\u001b[35mSignature(dtype=[dtype('float32')], shape=[(1,)])\u001b[0m\n",
            "\u001b[2m2025-10-26 09:59.09\u001b[0m [\u001b[32m\u001b[1minfo     \u001b[0m] \u001b[1mAction-space has been automatically determined.\u001b[0m \u001b[36maction_space\u001b[0m=\u001b[35m<ActionSpace.DISCRETE: 2>\u001b[0m\n",
            "\u001b[2m2025-10-26 09:59.11\u001b[0m [\u001b[32m\u001b[1minfo     \u001b[0m] \u001b[1mAction size has been automatically determined.\u001b[0m \u001b[36maction_size\u001b[0m=\u001b[35m2\u001b[0m\n",
            "\u001b[2m2025-10-26 09:59.12\u001b[0m [\u001b[32m\u001b[1minfo     \u001b[0m] \u001b[1mSignatures have been automatically determined.\u001b[0m \u001b[36maction_signature\u001b[0m=\u001b[35mSignature(dtype=[dtype('uint8')], shape=[(1,)])\u001b[0m \u001b[36mobservation_signature\u001b[0m=\u001b[35mSignature(dtype=[dtype('float32')], shape=[(76,)])\u001b[0m \u001b[36mreward_signature\u001b[0m=\u001b[35mSignature(dtype=[dtype('float32')], shape=[(1,)])\u001b[0m\n",
            "\u001b[2m2025-10-26 09:59.12\u001b[0m [\u001b[32m\u001b[1minfo     \u001b[0m] \u001b[1mAction-space has been automatically determined.\u001b[0m \u001b[36maction_space\u001b[0m=\u001b[35m<ActionSpace.DISCRETE: 2>\u001b[0m\n",
            "\u001b[2m2025-10-26 09:59.13\u001b[0m [\u001b[32m\u001b[1minfo     \u001b[0m] \u001b[1mAction size has been automatically determined.\u001b[0m \u001b[36maction_size\u001b[0m=\u001b[35m2\u001b[0m\n",
            "Total training transitions (real + synthetic): 281732\n"
          ]
        }
      ]
    },
    {
      "cell_type": "code",
      "source": [
        "print(\"\\nStep 3: Defining the Conservative Q-Learning (CQL) agent...\")\n",
        "use_gpu = len(tf.config.list_physical_devices('GPU')) > 0\n",
        "if use_gpu:\n",
        "    device = 'cuda:0'\n",
        "else:\n",
        "    device = 'cpu'\n",
        "print(f\"Using device: {device}\")\n",
        "\n",
        "\n",
        "cql_config = DiscreteCQLConfig(\n",
        "    reward_scaler=None,\n",
        "    action_scaler=None\n",
        ")\n",
        "\n",
        "cql_agent = cql_config.create(device=device)\n"
      ],
      "metadata": {
        "id": "K-0L72rtuQb6",
        "outputId": "5bb1e262-65b9-4870-8d4c-4cc2a4297b51",
        "colab": {
          "base_uri": "https://localhost:8080/"
        }
      },
      "execution_count": 117,
      "outputs": [
        {
          "output_type": "stream",
          "name": "stdout",
          "text": [
            "\n",
            "Step 3: Defining the Conservative Q-Learning (CQL) agent...\n",
            "Using device: cpu\n"
          ]
        }
      ]
    },
    {
      "cell_type": "code",
      "source": [
        "print(\"\\nStep 4: Training the agent...\")\n",
        "\n",
        "value_estimator = InitialStateValueEstimationEvaluator()\n",
        "action_matcher = DiscreteActionMatchEvaluator()\n",
        "\n",
        "cql_agent.fit(\n",
        "    dataset=train_dataset,\n",
        "    n_steps=10,\n",
        "    n_steps_per_epoch=10000,\n",
        "    evaluators={\n",
        "        'policy_value': value_estimator,\n",
        "        'action_match': action_matcher\n",
        "    },\n",
        "    show_progress=True,\n",
        "    save_interval=1\n",
        ")\n",
        "\n",
        "print(\"Training complete!\")"
      ],
      "metadata": {
        "id": "S9Z1u_I6uQeN",
        "colab": {
          "base_uri": "https://localhost:8080/"
        },
        "outputId": "0c57c1c7-ebb0-4098-d92a-85dd085281ce"
      },
      "execution_count": 118,
      "outputs": [
        {
          "output_type": "stream",
          "name": "stdout",
          "text": [
            "\n",
            "Step 4: Training the agent...\n",
            "\u001b[2m2025-10-26 09:59.13\u001b[0m [\u001b[32m\u001b[1minfo     \u001b[0m] \u001b[1mdataset info                  \u001b[0m \u001b[36mdataset_info\u001b[0m=\u001b[35mDatasetInfo(observation_signature=Signature(dtype=[dtype('float32')], shape=[(76,)]), action_signature=Signature(dtype=[dtype('uint8')], shape=[(1,)]), reward_signature=Signature(dtype=[dtype('float32')], shape=[(1,)]), action_space=<ActionSpace.DISCRETE: 2>, action_size=2)\u001b[0m\n",
            "\u001b[2m2025-10-26 09:59.13\u001b[0m [\u001b[32m\u001b[1mdebug    \u001b[0m] \u001b[1mBuilding models...            \u001b[0m\n",
            "\u001b[2m2025-10-26 09:59.13\u001b[0m [\u001b[32m\u001b[1mdebug    \u001b[0m] \u001b[1mModels have been built.       \u001b[0m\n",
            "\u001b[2m2025-10-26 09:59.13\u001b[0m [\u001b[32m\u001b[1minfo     \u001b[0m] \u001b[1mDirectory is created at d3rlpy_logs/DiscreteCQL_20251026095913\u001b[0m\n",
            "\u001b[2m2025-10-26 09:59.13\u001b[0m [\u001b[32m\u001b[1minfo     \u001b[0m] \u001b[1mParameters                    \u001b[0m \u001b[36mparams\u001b[0m=\u001b[35m{'observation_shape': [76], 'action_size': 2, 'config': {'type': 'discrete_cql', 'params': {'batch_size': 32, 'gamma': 0.99, 'observation_scaler': {'type': 'none', 'params': {}}, 'action_scaler': {'type': 'none', 'params': {}}, 'reward_scaler': {'type': 'none', 'params': {}}, 'compile_graph': False, 'learning_rate': 6.25e-05, 'optim_factory': {'type': 'adam', 'params': {'clip_grad_norm': None, 'lr_scheduler_factory': {'type': 'none', 'params': {}}, 'betas': [0.9, 0.999], 'eps': 1e-08, 'weight_decay': 0, 'amsgrad': False}}, 'encoder_factory': {'type': 'default', 'params': {'activation': 'relu', 'use_batch_norm': False, 'dropout_rate': None}}, 'q_func_factory': {'type': 'mean', 'params': {'share_encoder': False}}, 'n_critics': 1, 'target_update_interval': 8000, 'alpha': 1.0}}}\u001b[0m\n",
            "Training complete!\n"
          ]
        }
      ]
    },
    {
      "cell_type": "code",
      "source": [
        "# --- 6. Save Model and Prepare Data for Task 4 ---\n",
        "\n",
        "print(\"\\nStep 5: Saving policy...\")\n",
        "cql_agent.save_model('cql_policy.pt')\n",
        "\n",
        "# Get the RL agent's predicted actions on the test set\n",
        "rl_policy_actions = cql_agent.predict(X_test_processed.astype(np.float32))\n",
        "\n",
        "# Calculate the ground-truth rewards for both possible actions\n",
        "test_loan_amnt = X_test_reward_features[:, 0]\n",
        "test_int_rate = X_test_reward_features[:, 1]\n",
        "\n",
        "# Ground-truth reward if action == 1 (Approve)\n",
        "reward_if_approve = np.where(\n",
        "    y_test == 0,  # 0 = Fully Paid\n",
        "    (test_loan_amnt * test_int_rate / 100.0), # Reward = Profit\n",
        "    -test_loan_amnt # 1 = Default, Reward = Loss\n",
        ").astype(float)\n",
        "\n",
        "# Ground-truth reward if action == 0 (Deny)\n",
        "reward_if_deny = np.zeros_like(reward_if_approve, dtype=float)\n",
        "\n",
        "# Load the trained DL model from Task 2 to get its predictions\n",
        "try:\n",
        "    dl_model = tf.keras.models.load_model('dl_model.h5')\n",
        "    # Corrected typo: dl.model -> dl_model\n",
        "    dl_model_probas = dl_model.predict(X_test_processed).flatten()\n",
        "except Exception as e:\n",
        "    print(f\"\\nWarning: Could not load 'dl_model.h5'. (Error: {e})\")\n",
        "    print(\"Using placeholder (zeros) for DL model probabilities.\")\n",
        "    dl_model_probas = np.zeros_like(y_test, dtype=float)\n",
        "\n",
        "# Save all necessary data for the final analysis\n",
        "np.savez_compressed(\n",
        "    'task_4_analysis_data.npz',\n",
        "    y_test=y_test,\n",
        "    rl_policy_actions=rl_policy_actions,\n",
        "    dl_model_probas=dl_model_probas,\n",
        "    reward_if_approve=reward_if_approve,\n",
        "    reward_if_deny=reward_if_deny,\n",
        "    X_test=X_test_processed,\n",
        "    feature_names=feature_names\n",
        ")\n",
        "\n",
        "print(\"Data for Task 4 saved to 'task_4_analysis_data.npz'\")"
      ],
      "metadata": {
        "id": "stCUvOW8uQgh",
        "colab": {
          "base_uri": "https://localhost:8080/"
        },
        "outputId": "0ab134b0-fe7b-4444-c4f0-74a335fb5fd0"
      },
      "execution_count": 119,
      "outputs": [
        {
          "output_type": "stream",
          "name": "stdout",
          "text": [
            "\n",
            "Step 5: Saving policy...\n"
          ]
        },
        {
          "output_type": "stream",
          "name": "stderr",
          "text": [
            "WARNING:absl:Compiled the loaded model, but the compiled metrics have yet to be built. `model.compile_metrics` will be empty until you train or evaluate the model.\n"
          ]
        },
        {
          "output_type": "stream",
          "name": "stdout",
          "text": [
            "\u001b[1m1101/1101\u001b[0m \u001b[32m━━━━━━━━━━━━━━━━━━━━\u001b[0m\u001b[37m\u001b[0m \u001b[1m2s\u001b[0m 1ms/step\n",
            "Data for Task 4 saved to 'task_4_analysis_data.npz'\n"
          ]
        }
      ]
    },
    {
      "cell_type": "markdown",
      "source": [
        "> **TASK 4**\n",
        "\n"
      ],
      "metadata": {
        "id": "2HGGXptJ6y6Q"
      }
    },
    {
      "cell_type": "code",
      "source": [
        "print(\"Loading data from 'task_4_analysis_data.npz'...\")\n",
        "try:\n",
        "    data = np.load('task_4_analysis_data.npz', allow_pickle=True)\n",
        "    y_test = data['y_test']\n",
        "    rl_policy_actions = data['rl_policy_actions']\n",
        "    dl_model_probas = data['dl_model_probas']\n",
        "    reward_if_approve = data['reward_if_approve']\n",
        "    reward_if_deny = data['reward_if_deny']\n",
        "    X_test = data['X_test']\n",
        "    feature_names = data['feature_names']\n",
        "    print(\"Data loaded successfully.\")\n",
        "except FileNotFoundError:\n",
        "    print(\"Error: 'task_4_analysis_data.npz' not found.\")\n",
        "    print(\"Please run Task 2 and Task 3 successfully to generate this file.\")\n",
        "    exit()"
      ],
      "metadata": {
        "id": "tEpkFtW6uQiL",
        "colab": {
          "base_uri": "https://localhost:8080/"
        },
        "outputId": "da4fc7c1-7687-4e2a-b767-f09875b173cb"
      },
      "execution_count": 120,
      "outputs": [
        {
          "output_type": "stream",
          "name": "stdout",
          "text": [
            "Loading data from 'task_4_analysis_data.npz'...\n",
            "Data loaded successfully.\n"
          ]
        }
      ]
    },
    {
      "cell_type": "code",
      "source": [
        "# Policy 1: Historical Policy (Always Approve)\n",
        "# Action is always 1 (Approve)\n",
        "historical_rewards = reward_if_approve\n",
        "historical_total_profit = np.sum(historical_rewards)\n",
        "historical_avg_profit = np.mean(historical_rewards)\n",
        "historical_approval_rate = 1.0\n",
        "\n",
        "# Policy 2: DL Model Policy (Approve if prob(default) < 0.5)\n",
        "# Action = 0 (Deny) if proba > 0.5, else 1 (Approve)\n",
        "dl_policy_actions = (dl_model_probas <= 0.5).astype(int)\n",
        "dl_rewards = np.where(\n",
        "    dl_policy_actions == 1,\n",
        "    reward_if_approve,\n",
        "    reward_if_deny\n",
        ")\n",
        "dl_total_profit = np.sum(dl_rewards)\n",
        "dl_avg_profit = np.mean(dl_rewards)\n",
        "dl_approval_rate = np.mean(dl_policy_actions)\n",
        "\n",
        "# Policy 3: RL Agent Policy (Learned by CQL)\n",
        "# Actions are directly from rl_policy_actions\n",
        "rl_rewards = np.where(\n",
        "    rl_policy_actions == 1,\n",
        "    reward_if_approve,\n",
        "    reward_if_deny\n",
        ")\n",
        "rl_total_profit = np.sum(rl_rewards)\n",
        "rl_avg_profit = np.mean(rl_rewards)\n",
        "rl_approval_rate = np.mean(rl_policy_actions)"
      ],
      "metadata": {
        "id": "Vu2KjylWuQll"
      },
      "execution_count": 121,
      "outputs": []
    },
    {
      "cell_type": "code",
      "source": [
        "print(\"\\n--- Final Policy Comparison (Business Metrics) ---\")\n",
        "\n",
        "results = {\n",
        "    \"Policy\": [\"1. Historical (Always Approve)\", \"2. DL Model (Threshold=0.5)\", \"3. RL Agent (Profit-Max)\"],\n",
        "    \"Total Profit on Test Set\": [f\"${historical_total_profit:,.2f}\", f\"${dl_total_profit:,.2f}\", f\"${rl_total_profit:,.2f}\"],\n",
        "    \"Average Profit per Loan\": [f\"${historical_avg_profit:,.2f}\", f\"${dl_avg_profit:,.2f}\", f\"${rl_avg_profit:,.2f}\"],\n",
        "    \"Approval Rate\": [f\"{historical_approval_rate*100:.2f}%\", f\"{dl_approval_rate*100:.2f}%\", f\"{rl_approval_rate*100:.2f}%\"]\n",
        "}\n",
        "results_df = pd.DataFrame(results)\n",
        "print(results_df.to_string(index=False))\n",
        "\n",
        "\n",
        "print(\"\\n--- Policy Disagreement Analysis ---\")\n",
        "\n",
        "# Find cases where the models disagree\n",
        "df = pd.DataFrame()\n",
        "df['dl_action'] = dl_policy_actions\n",
        "df['rl_action'] = rl_policy_actions\n",
        "df['true_outcome'] = y_test # 0=Paid, 1=Default\n",
        "df['reward_if_approve'] = reward_if_approve\n",
        "\n",
        "# Case 1: DL Denies, RL Approves\n",
        "dl_denies_rl_approves = df[\n",
        "    (df['dl_action'] == 0) & (df['rl_action'] == 1)\n",
        "]\n",
        "\n",
        "print(f\"\\nFound {len(dl_denies_rl_approves)} cases where DL Denied but RL Approved.\")\n",
        "if len(dl_denies_rl_approves) > 0:\n",
        "    # Analyze these cases: What was the *actual* outcome?\n",
        "    print(\"Outcomes of these cases:\")\n",
        "    print(dl_denies_rl_approves['true_outcome'].value_counts(normalize=True))\n",
        "    print(f\"Average reward from these 'missed opportunities': ${dl_denies_rl_approves['reward_if_approve'].mean():.2f}\")\n",
        "\n",
        "\n",
        "# Case 2: DL Approves, RL Denies\n",
        "dl_approves_rl_denies = df[\n",
        "    (df['dl_action'] == 1) & (df['rl_action'] == 0)\n",
        "]\n",
        "\n",
        "print(f\"\\nFound {len(dl_approves_rl_denies)} cases where DL Approved but RL Denied.\")\n",
        "if len(dl_approves_rl_denies) > 0:\n",
        "    # Analyze these cases: What was the *actual* outcome?\n",
        "    print(\"Outcomes of these cases:\")\n",
        "    print(dl_approves_rl_denies['true_outcome'].value_counts(normalize=True))\n",
        "    print(f\"Average loss avoided by RL in these cases: ${dl_approves_rl_denies['reward_if_approve'].mean():.2f}\")"
      ],
      "metadata": {
        "id": "165R0Du2uQnL",
        "colab": {
          "base_uri": "https://localhost:8080/"
        },
        "outputId": "7e63b085-d17e-4ee1-85a3-f3747f03ecb9"
      },
      "execution_count": 122,
      "outputs": [
        {
          "output_type": "stream",
          "name": "stdout",
          "text": [
            "\n",
            "--- Final Policy Comparison (Business Metrics) ---\n",
            "                        Policy Total Profit on Test Set Average Profit per Loan Approval Rate\n",
            "1. Historical (Always Approve)          $-63,972,634.52              $-1,816.53       100.00%\n",
            "   2. DL Model (Threshold=0.5)           $-6,569,940.06                $-186.56        59.00%\n",
            "      3. RL Agent (Profit-Max)             $-424,549.21                 $-12.06         1.15%\n",
            "\n",
            "--- Policy Disagreement Analysis ---\n",
            "\n",
            "Found 309 cases where DL Denied but RL Approved.\n",
            "Outcomes of these cases:\n",
            "true_outcome\n",
            "0    0.699029\n",
            "1    0.300971\n",
            "Name: proportion, dtype: float64\n",
            "Average reward from these 'missed opportunities': $-1460.86\n",
            "\n",
            "Found 20681 cases where DL Approved but RL Denied.\n",
            "Outcomes of these cases:\n",
            "true_outcome\n",
            "0    0.892703\n",
            "1    0.107297\n",
            "Name: proportion, dtype: float64\n",
            "Average loss avoided by RL in these cases: $-318.98\n"
          ]
        }
      ]
    },
    {
      "cell_type": "code",
      "source": [],
      "metadata": {
        "id": "X_2nNvHN7D5I"
      },
      "execution_count": 122,
      "outputs": []
    },
    {
      "cell_type": "code",
      "source": [],
      "metadata": {
        "id": "hGL1WZ057D7Z"
      },
      "execution_count": 122,
      "outputs": []
    },
    {
      "cell_type": "code",
      "source": [],
      "metadata": {
        "id": "Jg7dQi6B7D9Y"
      },
      "execution_count": 122,
      "outputs": []
    },
    {
      "cell_type": "code",
      "source": [],
      "metadata": {
        "id": "96uftKMn7D_H"
      },
      "execution_count": 122,
      "outputs": []
    },
    {
      "cell_type": "code",
      "source": [],
      "metadata": {
        "trusted": true,
        "id": "6xM4vwOlt-sg"
      },
      "outputs": [],
      "execution_count": 122
    }
  ]
}